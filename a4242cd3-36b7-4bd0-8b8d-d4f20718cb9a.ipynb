{
 "cells": [
  {
   "cell_type": "markdown",
   "metadata": {
    "tags": [
     "e5c1f0c2-db9f-43a0-99b9-4875c52427e8"
    ]
   },
   "source": [
    "# Proyectos prometedores Ice"
   ]
  },
  {
   "cell_type": "markdown",
   "metadata": {},
   "source": [
    "# Tabla de Contenidos\n",
    "\n",
    "1. [Descripción del análisis](#Descripción-del-análisis)\n",
    "    \n",
    "    1.1 [Carga de datos](#Carga-de-datos)\n",
    "    \n",
    "    1.2 [Corrección de datos](#Correción-de-datos)\n",
    "\n",
    "2. [Análisis de datos](#Análisis-de-datos)\n",
    "    \n",
    "    2.1. [Análisis general de los datos](#Análisis-general-de-los-datos)\n",
    "    \n",
    "    2.2 [Plataformas más vendidas 1980-1999](#Plataformas-más-vendidas-1980-1999)\n",
    "    \n",
    "    2.3 [Plataformas más vendidas 2000-2016](#Plataformas-más-vendidas-2000-2016)\n",
    "    \n",
    "    2.4 [Descripción de las plataformas más vendidas 2000-2016](#Descripción-de-las-plataformas-más-vendidas-2000-2016)\n",
    "    \n",
    "    2.5 [Descripción de las plataformas más vendidas de 1980-1999](#Descripción-de-las-plataformas-más-vendidas-de-1980-1999)\n",
    "    \n",
    "    2.6 [Los años con más ventas](#Los-años-con-más-ventas)\n",
    "    \n",
    "    2.7 [Análisis de las puntuaciones](\"Análisis-de-las-puntuaciones)\n",
    "\n",
    "3. [Análisis por región](#Análisis-por-región)\n",
    "    \n",
    "    3.1 [Ventas en Norteamérica](#Ventas-en-Norteamérica)\n",
    "    \n",
    "    3.2 [Ventas en Europa](#Ventas-en-Europa)\n",
    "    \n",
    "    3.3 [Ventas en Japón](#Ventas-en-Japón)\n",
    "    \n",
    "    3.1 [Otras ventas](#Otras-ventas)\n",
    "\n",
    "4. [Prueba de hipótesis](#Prueba-de-hipótesis)\n",
    "\n",
    "5. [Conclusiones](\"Conclusiones)"
   ]
  },
  {
   "cell_type": "markdown",
   "metadata": {},
   "source": [
    "## Descripción del análisis\n",
    "<a id=\"Descripción del análisis\"></a>\n",
    "Ice es una tienda en línea con presencia global, ofreciendo productos en diversas partes del mundo, incluyendo Norteamérica, Europa, Japón y otros mercados internacionales. A medida que nos acercamos al año 2017, es fundamental para Ice identificar y evaluar las plataformas de comercio electrónico más prometedoras y adecuadas para su expansión y consolidación en estos mercados. \n",
    "\n",
    "Este análisis tiene como principal propósito examinar las plataformas digitales que puedan proporcionar a Ice una ventaja competitiva significativa, mejorar la experiencia del cliente y optimizar las operaciones logísticas y de marketing.\n",
    "Este análisis exhaustivo será crucial para tomar decisiones informadas y estratégicas que permitan a Ice obtener nuevas oportunidades de crecimiento y expansión en el dinámico panorama del comercio electrónico del 2017.\n",
    "\n",
    "Primero se realizará un análisis de manera general para así poder tener una perspectiva mucho más amplia, con esto poder identificar así a las plataformas en las que nos centraremos para este análisis. Después de terminar el análisis general pasaremos a realizar un análisis más puntual no solo de las plataformas, sino de otros aspectos importantes que deben ser tomados en cuenta tales como: los géneros con más rentabilidad o las clasificaciones más vendidas, incluso las puntuaciones que los profesionales tienen de cada plataforma, otro punto en el cual se realizara un análisis es en las regiones en las que Ice tiene presencia. Así con este análisis podremos tomar la mejor decisión a cerca de las plataformas a considerar."
   ]
  },
  {
   "cell_type": "markdown",
   "metadata": {},
   "source": [
    "### Carga de datos\n",
    "<a id=\"Carga de datos\"></a>"
   ]
  },
  {
   "cell_type": "code",
   "execution_count": 89,
   "metadata": {},
   "outputs": [],
   "source": [
    "#Carga de las librerías\n",
    "import pandas as pd\n",
    "import numpy as np\n",
    "import math as mt\n",
    "import seaborn as sns\n",
    "from scipy import stats as st\n",
    "from matplotlib import pyplot as plt\n",
    "from scipy.stats import levene"
   ]
  },
  {
   "cell_type": "code",
   "execution_count": 2,
   "metadata": {},
   "outputs": [
    {
     "name": "stdout",
     "output_type": "stream",
     "text": [
      "<class 'pandas.core.frame.DataFrame'>\n",
      "RangeIndex: 16715 entries, 0 to 16714\n",
      "Data columns (total 11 columns):\n",
      " #   Column           Non-Null Count  Dtype  \n",
      "---  ------           --------------  -----  \n",
      " 0   Name             16713 non-null  object \n",
      " 1   Platform         16715 non-null  object \n",
      " 2   Year_of_Release  16446 non-null  float64\n",
      " 3   Genre            16713 non-null  object \n",
      " 4   NA_sales         16715 non-null  float64\n",
      " 5   EU_sales         16715 non-null  float64\n",
      " 6   JP_sales         16715 non-null  float64\n",
      " 7   Other_sales      16715 non-null  float64\n",
      " 8   Critic_Score     8137 non-null   float64\n",
      " 9   User_Score       10014 non-null  object \n",
      " 10  Rating           9949 non-null   object \n",
      "dtypes: float64(6), object(5)\n",
      "memory usage: 1.4+ MB\n",
      "None\n"
     ]
    }
   ],
   "source": [
    "#Carga de los datos \n",
    "df_ice_data = pd.read_csv(\"/datasets/games.csv\")\n",
    "print(df_ice_data.info())"
   ]
  },
  {
   "cell_type": "markdown",
   "metadata": {},
   "source": [
    "A simple vista se puede observar la presencia de datos ausentes en algunas columnas, en algunas estos datos son significativos, mientras que en otras estos datos son mínimos. "
   ]
  },
  {
   "cell_type": "code",
   "execution_count": 3,
   "metadata": {},
   "outputs": [
    {
     "name": "stdout",
     "output_type": "stream",
     "text": [
      "                           Name Platform  Year_of_Release         Genre  \\\n",
      "0                    Wii Sports      Wii           2006.0        Sports   \n",
      "1             Super Mario Bros.      NES           1985.0      Platform   \n",
      "2                Mario Kart Wii      Wii           2008.0        Racing   \n",
      "3             Wii Sports Resort      Wii           2009.0        Sports   \n",
      "4      Pokemon Red/Pokemon Blue       GB           1996.0  Role-Playing   \n",
      "5                        Tetris       GB           1989.0        Puzzle   \n",
      "6         New Super Mario Bros.       DS           2006.0      Platform   \n",
      "7                      Wii Play      Wii           2006.0          Misc   \n",
      "8     New Super Mario Bros. Wii      Wii           2009.0      Platform   \n",
      "9                     Duck Hunt      NES           1984.0       Shooter   \n",
      "10                   Nintendogs       DS           2005.0    Simulation   \n",
      "11                Mario Kart DS       DS           2005.0        Racing   \n",
      "12  Pokemon Gold/Pokemon Silver       GB           1999.0  Role-Playing   \n",
      "13                      Wii Fit      Wii           2007.0        Sports   \n",
      "14           Kinect Adventures!     X360           2010.0          Misc   \n",
      "\n",
      "    NA_sales  EU_sales  JP_sales  Other_sales  Critic_Score User_Score Rating  \n",
      "0      41.36     28.96      3.77         8.45          76.0          8      E  \n",
      "1      29.08      3.58      6.81         0.77           NaN        NaN    NaN  \n",
      "2      15.68     12.76      3.79         3.29          82.0        8.3      E  \n",
      "3      15.61     10.93      3.28         2.95          80.0          8      E  \n",
      "4      11.27      8.89     10.22         1.00           NaN        NaN    NaN  \n",
      "5      23.20      2.26      4.22         0.58           NaN        NaN    NaN  \n",
      "6      11.28      9.14      6.50         2.88          89.0        8.5      E  \n",
      "7      13.96      9.18      2.93         2.84          58.0        6.6      E  \n",
      "8      14.44      6.94      4.70         2.24          87.0        8.4      E  \n",
      "9      26.93      0.63      0.28         0.47           NaN        NaN    NaN  \n",
      "10      9.05     10.95      1.93         2.74           NaN        NaN    NaN  \n",
      "11      9.71      7.47      4.13         1.90          91.0        8.6      E  \n",
      "12      9.00      6.18      7.20         0.71           NaN        NaN    NaN  \n",
      "13      8.92      8.03      3.60         2.15          80.0        7.7      E  \n",
      "14     15.00      4.89      0.24         1.69          61.0        6.3      E  \n"
     ]
    }
   ],
   "source": [
    "#Mostramos las 15 primeras filas\n",
    "print(df_ice_data.head(15))"
   ]
  },
  {
   "cell_type": "markdown",
   "metadata": {},
   "source": [
    "### Corrección de datos \n",
    "<a id=\"Corrección de datos\"></a>"
   ]
  },
  {
   "cell_type": "code",
   "execution_count": 4,
   "metadata": {},
   "outputs": [],
   "source": [
    "# Cambiamos los nombres de las columnas en minúsculas\n",
    "df_ice_data.columns = df_ice_data.columns.str.lower()"
   ]
  },
  {
   "cell_type": "code",
   "execution_count": 5,
   "metadata": {},
   "outputs": [
    {
     "data": {
      "text/plain": [
       "Index(['name', 'platform', 'year_of_release', 'genre', 'na_sales', 'eu_sales',\n",
       "       'jp_sales', 'other_sales', 'critic_score', 'user_score', 'rating'],\n",
       "      dtype='object')"
      ]
     },
     "execution_count": 5,
     "metadata": {},
     "output_type": "execute_result"
    }
   ],
   "source": [
    "# Comprobamos que los nombres han sido modificados correctamente\n",
    "df_ice_data.columns"
   ]
  },
  {
   "cell_type": "code",
   "execution_count": 6,
   "metadata": {},
   "outputs": [
    {
     "name": "stdout",
     "output_type": "stream",
     "text": [
      "0\n"
     ]
    }
   ],
   "source": [
    "# Comprobamos la existencia de filas duplicadas\n",
    "print(df_ice_data.duplicated().sum())"
   ]
  },
  {
   "cell_type": "code",
   "execution_count": 7,
   "metadata": {},
   "outputs": [
    {
     "name": "stdout",
     "output_type": "stream",
     "text": [
      "                                    name platform  year_of_release  \\\n",
      "183                      Madden NFL 2004      PS2              NaN   \n",
      "377                     FIFA Soccer 2004      PS2              NaN   \n",
      "456           LEGO Batman: The Videogame      Wii              NaN   \n",
      "475           wwe Smackdown vs. Raw 2006      PS2              NaN   \n",
      "609                       Space Invaders     2600              NaN   \n",
      "...                                  ...      ...              ...   \n",
      "16373  PDC World Championship Darts 2008      PSP              NaN   \n",
      "16405                      Freaky Flyers       GC              NaN   \n",
      "16448                          Inversion       PC              NaN   \n",
      "16458        Hakuouki: Shinsengumi Kitan      PS3              NaN   \n",
      "16522                       Virtua Quest       GC              NaN   \n",
      "\n",
      "              genre  na_sales  eu_sales  jp_sales  other_sales  critic_score  \\\n",
      "183          Sports      4.26      0.26      0.01         0.71          94.0   \n",
      "377          Sports      0.59      2.36      0.04         0.51          84.0   \n",
      "456          Action      1.80      0.97      0.00         0.29          74.0   \n",
      "475        Fighting      1.57      1.02      0.00         0.41           NaN   \n",
      "609         Shooter      2.36      0.14      0.00         0.03           NaN   \n",
      "...             ...       ...       ...       ...          ...           ...   \n",
      "16373        Sports      0.01      0.00      0.00         0.00          43.0   \n",
      "16405        Racing      0.01      0.00      0.00         0.00          69.0   \n",
      "16448       Shooter      0.01      0.00      0.00         0.00          59.0   \n",
      "16458     Adventure      0.01      0.00      0.00         0.00           NaN   \n",
      "16522  Role-Playing      0.01      0.00      0.00         0.00          55.0   \n",
      "\n",
      "      user_score rating  \n",
      "183          8.5      E  \n",
      "377          6.4      E  \n",
      "456          7.9   E10+  \n",
      "475          NaN    NaN  \n",
      "609          NaN    NaN  \n",
      "...          ...    ...  \n",
      "16373        tbd   E10+  \n",
      "16405        6.5      T  \n",
      "16448        6.7      M  \n",
      "16458        NaN    NaN  \n",
      "16522        5.5      T  \n",
      "\n",
      "[269 rows x 11 columns]\n"
     ]
    }
   ],
   "source": [
    "# Mostramos cuntos valores ausentes tiene year_of_release\n",
    "print(df_ice_data[df_ice_data[\"year_of_release\"].isna()])"
   ]
  },
  {
   "cell_type": "code",
   "execution_count": 8,
   "metadata": {},
   "outputs": [],
   "source": [
    "# Rellenamos los valores ausentes con el valor promedio de los años\n",
    "df_ice_data[\"year_of_release\"] = df_ice_data[\"year_of_release\"].fillna(df_ice_data[\"year_of_release\"].mean())"
   ]
  },
  {
   "cell_type": "code",
   "execution_count": 9,
   "metadata": {},
   "outputs": [
    {
     "name": "stdout",
     "output_type": "stream",
     "text": [
      "int64\n"
     ]
    }
   ],
   "source": [
    "# Convertimos el tipo de valores de year_of_release\n",
    "df_ice_data[\"year_of_release\"] = df_ice_data[\"year_of_release\"].astype(int)\n",
    "print(df_ice_data[\"year_of_release\"].dtype)"
   ]
  },
  {
   "cell_type": "code",
   "execution_count": 10,
   "metadata": {},
   "outputs": [],
   "source": [
    "# Cambiamos el valor \"TBD\" a 0.0 ya que aun no se ha determinado cual es su valor para user_score\n",
    "def convert_tbd (value):\n",
    "    if value == \"tbd\":\n",
    "        return \"0.0\"\n",
    "    else:\n",
    "        return value\n",
    "    \n",
    "df_ice_data[\"user_score\"] = df_ice_data[\"user_score\"].apply(convert_tbd)"
   ]
  },
  {
   "cell_type": "code",
   "execution_count": 11,
   "metadata": {},
   "outputs": [
    {
     "name": "stdout",
     "output_type": "stream",
     "text": [
      "                       name platform  year_of_release         genre  na_sales  \\\n",
      "0                Wii Sports      Wii             2006        Sports     41.36   \n",
      "1         Super Mario Bros.      NES             1985      Platform     29.08   \n",
      "2            Mario Kart Wii      Wii             2008        Racing     15.68   \n",
      "3         Wii Sports Resort      Wii             2009        Sports     15.61   \n",
      "4  Pokemon Red/Pokemon Blue       GB             1996  Role-Playing     11.27   \n",
      "\n",
      "   eu_sales  jp_sales  other_sales  critic_score  user_score rating  \n",
      "0     28.96      3.77         8.45          76.0         8.0      E  \n",
      "1      3.58      6.81         0.77           NaN         6.9    NaN  \n",
      "2     12.76      3.79         3.29          82.0         8.3      E  \n",
      "3     10.93      3.28         2.95          80.0         8.0      E  \n",
      "4      8.89     10.22         1.00           NaN         6.9    NaN  \n"
     ]
    }
   ],
   "source": [
    "# Cambiamos el tipo de valor de la columna user_score\n",
    "# Rellenamos las filas con valores ausentes en la columna user_score por la mediana\n",
    "df_ice_data[\"user_score\"] = df_ice_data[\"user_score\"].astype(float)\n",
    "median_user_score = df_ice_data[\"user_score\"].median()\n",
    "median_user_score_rounded = round(median_user_score, 1)\n",
    "df_ice_data[\"user_score\"] = df_ice_data[\"user_score\"].fillna(median_user_score_rounded)\n",
    "print(df_ice_data.head())"
   ]
  },
  {
   "cell_type": "code",
   "execution_count": 12,
   "metadata": {},
   "outputs": [
    {
     "name": "stdout",
     "output_type": "stream",
     "text": [
      "                       name platform  year_of_release         genre  na_sales  \\\n",
      "0                Wii Sports      Wii             2006        Sports     41.36   \n",
      "1         Super Mario Bros.      NES             1985      Platform     29.08   \n",
      "2            Mario Kart Wii      Wii             2008        Racing     15.68   \n",
      "3         Wii Sports Resort      Wii             2009        Sports     15.61   \n",
      "4  Pokemon Red/Pokemon Blue       GB             1996  Role-Playing     11.27   \n",
      "\n",
      "   eu_sales  jp_sales  other_sales  critic_score  user_score rating  \n",
      "0     28.96      3.77         8.45          76.0         8.0      E  \n",
      "1      3.58      6.81         0.77          71.0         6.9    NaN  \n",
      "2     12.76      3.79         3.29          82.0         8.3      E  \n",
      "3     10.93      3.28         2.95          80.0         8.0      E  \n",
      "4      8.89     10.22         1.00          71.0         6.9    NaN  \n"
     ]
    }
   ],
   "source": [
    "# Cambiamos las filas con valores ausentes en la columna critic_score por la mediana\n",
    "median_critic_score = df_ice_data[\"critic_score\"].median()\n",
    "df_ice_data[\"critic_score\"].fillna(median_critic_score, inplace=True)\n",
    "print(df_ice_data.head())"
   ]
  },
  {
   "cell_type": "code",
   "execution_count": 13,
   "metadata": {},
   "outputs": [
    {
     "name": "stdout",
     "output_type": "stream",
     "text": [
      "int64\n"
     ]
    }
   ],
   "source": [
    "# Convertimos de tipo a la columna critic_score\n",
    "df_ice_data[\"critic_score\"] = df_ice_data[\"critic_score\"].astype(int)\n",
    "print(df_ice_data[\"critic_score\"].dtype)"
   ]
  },
  {
   "cell_type": "code",
   "execution_count": 14,
   "metadata": {},
   "outputs": [
    {
     "name": "stdout",
     "output_type": "stream",
     "text": [
      "                       name platform  year_of_release         genre  na_sales  \\\n",
      "0                Wii Sports      Wii             2006        Sports     41.36   \n",
      "1         Super Mario Bros.      NES             1985      Platform     29.08   \n",
      "2            Mario Kart Wii      Wii             2008        Racing     15.68   \n",
      "3         Wii Sports Resort      Wii             2009        Sports     15.61   \n",
      "4  Pokemon Red/Pokemon Blue       GB             1996  Role-Playing     11.27   \n",
      "\n",
      "   eu_sales  jp_sales  other_sales  critic_score  user_score           rating  \n",
      "0     28.96      3.77         8.45            76         8.0                E  \n",
      "1      3.58      6.81         0.77            71         6.9  sin especificar  \n",
      "2     12.76      3.79         3.29            82         8.3                E  \n",
      "3     10.93      3.28         2.95            80         8.0                E  \n",
      "4      8.89     10.22         1.00            71         6.9  sin especificar  \n"
     ]
    }
   ],
   "source": [
    "# Cambiamos las filas con valores ausentes en la columna rating\n",
    "df_ice_data[\"rating\"].fillna(\"sin especificar\", inplace=True)\n",
    "print(df_ice_data.head())"
   ]
  },
  {
   "cell_type": "markdown",
   "metadata": {},
   "source": [
    "Primero cambiamos el nombre de las columnas a minúsculas para un mejor manejo, observamos si existen valores ausentes, los valores ausentes de la columna \"yaer_of_release\" fueron sustituidos por el valor medio de la fechas existentes, en la columna \"user_score\" fueron sustituidos los valores de \"TBD\" a 0.0 esto porque es un valor que aún no está determinado, los valores ausentes de la columna \"critic_score\" fueron sustituidos por la mediana de los datos que los profesionales han realizado a lo largo del tiempo, por último los valores de la columna \"rating\" fueron sustituidos por \"sin clasificar\" para evitar que esos datos se perdieran."
   ]
  },
  {
   "cell_type": "markdown",
   "metadata": {},
   "source": [
    "## Análisis de datos\n",
    "<a id=\"Análisis de datos\"></a>"
   ]
  },
  {
   "cell_type": "markdown",
   "metadata": {},
   "source": [
    "### Análisis general de los datos\n",
    "<a id=\"Análisis deneral de los datos\"></a>"
   ]
  },
  {
   "cell_type": "code",
   "execution_count": 30,
   "metadata": {},
   "outputs": [
    {
     "name": "stdout",
     "output_type": "stream",
     "text": [
      "2008    1427\n",
      "2009    1426\n",
      "2006    1275\n",
      "2010    1255\n",
      "2007    1197\n",
      "Name: year_of_release, dtype: int64\n"
     ]
    }
   ],
   "source": [
    "# Observamos el numero de veces que se repite cada año de lanzamiento\n",
    "year_counts = df_ice_data[\"year_of_release\"].value_counts().sort_index()\n",
    "print(year_counts.sort_values(ascending=False).head())"
   ]
  },
  {
   "cell_type": "code",
   "execution_count": 31,
   "metadata": {},
   "outputs": [
    {
     "name": "stdout",
     "output_type": "stream",
     "text": [
      "PS2     2161\n",
      "DS      2151\n",
      "PS3     1331\n",
      "Wii     1320\n",
      "X360    1262\n",
      "Name: platform, dtype: int64\n"
     ]
    }
   ],
   "source": [
    "# Mostramos cuantas veces se repite cada plataforma\n",
    "platform_counts = df_ice_data[\"platform\"].value_counts()\n",
    "print(platform_counts.sort_values(ascending=False).head())"
   ]
  },
  {
   "cell_type": "code",
   "execution_count": 32,
   "metadata": {},
   "outputs": [
    {
     "name": "stdout",
     "output_type": "stream",
     "text": [
      "                       name platform  year_of_release         genre  na_sales  \\\n",
      "0                Wii Sports      Wii             2006        Sports     41.36   \n",
      "1         Super Mario Bros.      NES             1985      Platform     29.08   \n",
      "2            Mario Kart Wii      Wii             2008        Racing     15.68   \n",
      "3         Wii Sports Resort      Wii             2009        Sports     15.61   \n",
      "4  Pokemon Red/Pokemon Blue       GB             1996  Role-Playing     11.27   \n",
      "\n",
      "   eu_sales  jp_sales  other_sales  critic_score  user_score           rating  \\\n",
      "0     28.96      3.77         8.45            76         8.0                E   \n",
      "1      3.58      6.81         0.77            71         6.9  sin especificar   \n",
      "2     12.76      3.79         3.29            82         8.3                E   \n",
      "3     10.93      3.28         2.95            80         8.0                E   \n",
      "4      8.89     10.22         1.00            71         6.9  sin especificar   \n",
      "\n",
      "   total_sales  \n",
      "0        82.54  \n",
      "1        40.24  \n",
      "2        35.52  \n",
      "3        32.77  \n",
      "4        31.38  \n"
     ]
    }
   ],
   "source": [
    "# Obtenemos el total de las ventas\n",
    "df_ice_data[\"total_sales\"] = df_ice_data[\"na_sales\"] + df_ice_data[\"eu_sales\"] + df_ice_data[\"jp_sales\"] + df_ice_data[\"other_sales\"]\n",
    "print(df_ice_data.head())"
   ]
  },
  {
   "cell_type": "markdown",
   "metadata": {},
   "source": [
    "Obtenemos las ventas totales sumando las ventas que se realizaron en Norteamerica, Europa, Japón y otras ventas."
   ]
  },
  {
   "cell_type": "code",
   "execution_count": 33,
   "metadata": {},
   "outputs": [
    {
     "name": "stdout",
     "output_type": "stream",
     "text": [
      "   platform  total_sales\n",
      "0      2600        96.98\n",
      "1       3DO         0.10\n",
      "2       3DS       259.00\n",
      "3        DC        15.95\n",
      "4        DS       806.12\n",
      "5        GB       255.46\n",
      "6       GBA       317.85\n",
      "7        GC       198.93\n",
      "8       GEN        30.77\n",
      "9        GG         0.04\n",
      "10      N64       218.68\n",
      "11      NES       251.05\n",
      "12       NG         1.44\n",
      "13       PC       259.52\n",
      "14     PCFX         0.03\n",
      "15       PS       730.86\n",
      "16      PS2      1255.77\n",
      "17      PS3       939.65\n",
      "18      PS4       314.14\n",
      "19      PSP       294.05\n",
      "20      PSV        54.07\n",
      "21      SAT        33.59\n",
      "22      SCD         1.86\n",
      "23     SNES       200.04\n",
      "24     TG16         0.16\n",
      "25       WS         1.42\n",
      "26      Wii       907.51\n",
      "27     WiiU        82.19\n",
      "28     X360       971.42\n",
      "29       XB       257.74\n",
      "30     XOne       159.32\n"
     ]
    }
   ],
   "source": [
    "# Agrupamos la plataforma con lasz ventas totales\n",
    "group_platforms = df_ice_data.groupby(\"platform\")[\"total_sales\"].sum().reset_index()\n",
    "print(group_platforms)"
   ]
  },
  {
   "cell_type": "code",
   "execution_count": 19,
   "metadata": {},
   "outputs": [
    {
     "data": {
      "image/png": "[encoded data removed]",
      "text/plain": [
       "<Figure size 640x480 with 1 Axes>"
      ]
     },
     "metadata": {},
     "output_type": "display_data"
    }
   ],
   "source": [
    "# Mostramos el grafico de ventas en general\n",
    "\n",
    "group_platforms.plot(kind=\"bar\",\n",
    "                     x=\"platform\",\n",
    "                     y=\"total_sales\",\n",
    "                     xlabel=\"platform\",\n",
    "                     ylabel=\"Ventas totales\",\n",
    "                     title=\"Ventas de las plataformas lanzadas de 1980 a 2016\",\n",
    "                     color=\"olive\")\n",
    "\n",
    "plt.show()"
   ]
  },
  {
   "cell_type": "code",
   "execution_count": 34,
   "metadata": {},
   "outputs": [
    {
     "name": "stdout",
     "output_type": "stream",
     "text": [
      "Index(['PS2', 'X360', 'PS3'], dtype='object', name='platform')\n"
     ]
    }
   ],
   "source": [
    "# Buscamos las platafromas con más ventas\n",
    "top_platforms = group_platforms.groupby(\"platform\")[\"total_sales\"].sum().nlargest(3).index\n",
    "print(top_platforms)"
   ]
  },
  {
   "cell_type": "markdown",
   "metadata": {},
   "source": [
    "Como se puede observar en el gráfico y con referencia a las ventas totales desde el año 1980 a 2016, las platafromas con más ventas a lo largo de este periodo son en primer lugar PS2, en segundo lugar X360, en tercer lugar PS3 y el cuarto lugar Wii, y las ge menos generaron ventas a lo largo de este periodo fueron 3DO, GG, PCFX y TG16."
   ]
  },
  {
   "cell_type": "code",
   "execution_count": 35,
   "metadata": {},
   "outputs": [
    {
     "name": "stdout",
     "output_type": "stream",
     "text": [
      "year_of_release\n",
      "1980    11.38\n",
      "1981    35.68\n",
      "1982    28.88\n",
      "1983    16.80\n",
      "1984    50.35\n",
      "Name: total_sales, dtype: float64\n"
     ]
    }
   ],
   "source": [
    "# Buscamos el año con más ventas\n",
    "filtered_year = df_ice_data.groupby(\"year_of_release\")[\"total_sales\"].sum()\n",
    "print(filtered_year.head())"
   ]
  },
  {
   "cell_type": "code",
   "execution_count": 36,
   "metadata": {},
   "outputs": [
    {
     "data": {
      "image/png": "[encoded data removed]",
      "text/plain": [
       "<Figure size 640x480 with 1 Axes>"
      ]
     },
     "metadata": {},
     "output_type": "display_data"
    }
   ],
   "source": [
    "# Creamos el grafico para observar el año en que más se obtuvo ventas\n",
    "\n",
    "ax = filtered_year.plot(xlabel=\"Año\",\n",
    "                        ylabel=\"Ventas totales\",\n",
    "                        color=\"olive\",\n",
    "                        kind=\"bar\",\n",
    "                        title=\"Total de ventas por año\",\n",
    "                        x=\"year_of_release\")\n",
    "\n",
    "\n",
    "plt.show()\n"
   ]
  },
  {
   "cell_type": "markdown",
   "metadata": {},
   "source": [
    "Observamos en el gráfico que las mayores ventas se realizaron en el año 2008 seguido por el año 2009 y el año 2006, los años en los que menos se reslizon ventas fueron 1980, 1983 y 1987."
   ]
  },
  {
   "cell_type": "code",
   "execution_count": 37,
   "metadata": {},
   "outputs": [
    {
     "name": "stdout",
     "output_type": "stream",
     "text": [
      "genre\n",
      "Action       1744.17\n",
      "Adventure     237.59\n",
      "Fighting      447.53\n",
      "Misc          802.51\n",
      "Platform      827.77\n",
      "Name: total_sales, dtype: float64\n"
     ]
    }
   ],
   "source": [
    "# Mostramos las ventas totales por los géneros \n",
    "genre_total_sales = df_ice_data.groupby(\"genre\")[\"total_sales\"].sum()\n",
    "print(genre_total_sales.head())"
   ]
  },
  {
   "cell_type": "code",
   "execution_count": 38,
   "metadata": {},
   "outputs": [
    {
     "data": {
      "image/png": "[encoded data removed]",
      "text/plain": [
       "<Figure size 640x480 with 1 Axes>"
      ]
     },
     "metadata": {},
     "output_type": "display_data"
    }
   ],
   "source": [
    "# Mostramos un gráfico de las ventas totales por género\n",
    "genre_total_sales.plot(title=\"Ventas totales por género\",\n",
    "                      kind=\"bar\",\n",
    "                      xlabel=\"Género\",\n",
    "                      ylabel=\"Ventas totales (millones de dólares EU)\",\n",
    "                      color=\"olive\")\n",
    "\n",
    "plt.xticks(rotation=45)\n",
    "plt.show()"
   ]
  },
  {
   "cell_type": "markdown",
   "metadata": {},
   "source": [
    "Uno de los generos que cuantas con mas ventas registradas en el periodo 1980-2016 es el de Acción con 1744 millones de dólares vendidos."
   ]
  },
  {
   "cell_type": "code",
   "execution_count": 39,
   "metadata": {},
   "outputs": [
    {
     "data": {
      "text/plain": [
       "<AxesSubplot:xlabel='total_sales'>"
      ]
     },
     "execution_count": 39,
     "metadata": {},
     "output_type": "execute_result"
    },
    {
     "data": {
      "image/png": "[encoded data removed]",
      "text/plain": [
       "<Figure size 640x480 with 1 Axes>"
      ]
     },
     "metadata": {},
     "output_type": "display_data"
    }
   ],
   "source": [
    "# Mostramos un diagrama de las ventas totales globales \n",
    "\n",
    "sns.boxplot(filtered_year)"
   ]
  },
  {
   "cell_type": "code",
   "execution_count": 26,
   "metadata": {},
   "outputs": [
    {
     "name": "stdout",
     "output_type": "stream",
     "text": [
      "240.96513513513378\n"
     ]
    }
   ],
   "source": [
    "print(np.mean(filtered_year))"
   ]
  },
  {
   "cell_type": "markdown",
   "metadata": {},
   "source": [
    "Podemos observar el valor de la media está un poco arriba de 200, el Q1 y Q3 está entre los valores 50 y 350 aproximadamente, no parece haber valores atípicos, tenemos valores extensos los cuales están muy cerca del valor 0 y más de 600, y el gráfico nos muestra una simetría hacia la derecha. "
   ]
  },
  {
   "cell_type": "code",
   "execution_count": 40,
   "metadata": {},
   "outputs": [
    {
     "data": {
      "text/plain": [
       "<AxesSubplot:xlabel='total_sales'>"
      ]
     },
     "execution_count": 40,
     "metadata": {},
     "output_type": "execute_result"
    },
    {
     "data": {
      "image/png": "[encoded data removed]",
      "text/plain": [
       "<Figure size 640x480 with 1 Axes>"
      ]
     },
     "metadata": {},
     "output_type": "display_data"
    }
   ],
   "source": [
    "# Mostramos el gráfico de las plataformas\n",
    "sns.boxplot(group_platforms[\"total_sales\"])"
   ]
  },
  {
   "cell_type": "code",
   "execution_count": 41,
   "metadata": {},
   "outputs": [
    {
     "name": "stdout",
     "output_type": "stream",
     "text": [
      "total_sales    287.603548\n",
      "dtype: float64\n"
     ]
    }
   ],
   "source": [
    "print(np.mean(group_platforms))"
   ]
  },
  {
   "cell_type": "markdown",
   "metadata": {},
   "source": [
    "Podemos decir que el valor de la media se encuentra en 287.6, el Q1 está cerca del valor 0, el Q3 está un poco más arriba de 300, algo muy notable que se puede observar es la existencia de valores atípicos que van desde alrededor de 600 a 1200, son valores que son más altos que el resto, muestra datos segados hacia la derecha y podemos que decir que la mayoría de los datos esta agrupado entre 0 y 400 aproximadamente."
   ]
  },
  {
   "cell_type": "markdown",
   "metadata": {},
   "source": [
    "###  Plataformas más vendidas 1980-1999 \n",
    "<a id=\"Plataformas más vendidas 1980-1999\"></a>"
   ]
  },
  {
   "cell_type": "code",
   "execution_count": 42,
   "metadata": {},
   "outputs": [
    {
     "name": "stdout",
     "output_type": "stream",
     "text": [
      "Index(['PS', 'NES', 'GB', 'SNES', 'N64'], dtype='object', name='platform')\n"
     ]
    }
   ],
   "source": [
    "# Buscaremos las plataformas con mas ventas antes del 2000\n",
    "filtered_sales_1900 = df_ice_data[(df_ice_data[\"year_of_release\"] <= 1999)]\n",
    "top_1900 = filtered_sales_1900.groupby(\"platform\")[\"total_sales\"].sum().nlargest(5).index\n",
    "print(top_1900)"
   ]
  },
  {
   "cell_type": "markdown",
   "metadata": {},
   "source": [
    "Podemos observar que en el periodo de 1980 a 1999 las plataformas que obtuvieron más ventas fueron PS, NES, GB, SNES y N64, realizando uan comparacion con los datos obtenidos anteriormente podemos decir que a pesar de que estas plataformas fueran las más vendidas en este periodo no estan en la lista de las plataformas más vendidas del perido completo (1980-2016)."
   ]
  },
  {
   "cell_type": "markdown",
   "metadata": {},
   "source": [
    "### Plataformas más vendidas 2000-2016\n",
    "<a id=\"Plataformas más vendidas 2000-2016\"></a>"
   ]
  },
  {
   "cell_type": "code",
   "execution_count": 44,
   "metadata": {},
   "outputs": [
    {
     "name": "stdout",
     "output_type": "stream",
     "text": [
      "Index(['PS2', 'X360', 'PS3', 'Wii', 'DS'], dtype='object', name='platform')\n"
     ]
    }
   ],
   "source": [
    "# Buscaremos las platafromas mas vendidas después del año 2000\n",
    "filtered_sales_2000 = df_ice_data[(df_ice_data[\"year_of_release\"] >= 2000)]\n",
    "top_2000 = filtered_sales_2000.groupby(\"platform\")[\"total_sales\"].sum().nlargest(5).index\n",
    "print(top_2000)"
   ]
  },
  {
   "cell_type": "markdown",
   "metadata": {},
   "source": [
    "Podemos observar que las plataformas con más ventas del periodo del 2000 a 2016 las plataformas con más ventas son PS2, X360, PS3, Wii y DS, comparando con las plataformas con más ventas del periodo 1980-2016 se puede decir que son las mismas platafromas."
   ]
  },
  {
   "cell_type": "markdown",
   "metadata": {},
   "source": [
    "### Descripción de las plataformas más vendidas 2000-2016\n",
    "<a id=\"Descripción de las plataformas más vendidas 2000-2016\"></a>"
   ]
  },
  {
   "cell_type": "code",
   "execution_count": 45,
   "metadata": {},
   "outputs": [
    {
     "name": "stdout",
     "output_type": "stream",
     "text": [
      "year_of_release\n",
      "2000     39.17\n",
      "2001    166.43\n",
      "2002    205.38\n",
      "2003    184.31\n",
      "2004    211.81\n",
      "Name: total_sales, dtype: float64\n"
     ]
    }
   ],
   "source": [
    "# Buscamos el total de las ventas de PS2 por año \n",
    "filtered_ps2 = df_ice_data[df_ice_data[\"platform\"] == \"PS2\"]\n",
    "group_ps2 = filtered_ps2.groupby(\"year_of_release\")[\"total_sales\"].sum()\n",
    "print(group_ps2.head())"
   ]
  },
  {
   "cell_type": "code",
   "execution_count": 46,
   "metadata": {},
   "outputs": [
    {
     "data": {
      "image/png": "[encoded data removed]",
      "text/plain": [
       "<Figure size 640x480 with 1 Axes>"
      ]
     },
     "metadata": {},
     "output_type": "display_data"
    }
   ],
   "source": [
    "# Mostramos el gráfico PS2\n",
    "group_ps2.plot(kind=\"bar\",\n",
    "              xlabel=\"Año\",\n",
    "              ylabel=\"Ventas\",\n",
    "              title=\"Ventas de PS2\",\n",
    "              color= \"olive\")\n",
    "\n",
    "plt.show()"
   ]
  },
  {
   "cell_type": "markdown",
   "metadata": {},
   "source": [
    "Como se puede observar en el gráfico el año en el que se generó más ventas es 2004, y el periodo de 2010 a 2011 las ventas han disminuido considerablemente.  "
   ]
  },
  {
   "cell_type": "code",
   "execution_count": 47,
   "metadata": {},
   "outputs": [
    {
     "name": "stdout",
     "output_type": "stream",
     "text": [
      "year_of_release\n",
      "2005      8.25\n",
      "2006     61.80\n",
      "2007     95.41\n",
      "2008    135.26\n",
      "2009    120.29\n",
      "Name: total_sales, dtype: float64\n"
     ]
    }
   ],
   "source": [
    "# Buscamos el total de las ventas de X360 por año \n",
    "filtered_x360 = df_ice_data[df_ice_data[\"platform\"] == \"X360\"]\n",
    "group_x360 = filtered_x360.groupby(\"year_of_release\")[\"total_sales\"].sum()\n",
    "print(group_x360.head())"
   ]
  },
  {
   "cell_type": "code",
   "execution_count": 48,
   "metadata": {},
   "outputs": [
    {
     "data": {
      "image/png": "[encoded data removed]",
      "text/plain": [
       "<Figure size 640x480 with 1 Axes>"
      ]
     },
     "metadata": {},
     "output_type": "display_data"
    }
   ],
   "source": [
    "# Mostramos el gráfico PS2\n",
    "group_x360.plot(kind=\"bar\",\n",
    "              xlabel=\"Año\",\n",
    "              ylabel=\"Ventas\",\n",
    "              title=\"Ventas de X360\",\n",
    "              color= \"olive\")\n",
    "\n",
    "plt.show()"
   ]
  },
  {
   "cell_type": "markdown",
   "metadata": {},
   "source": [
    "Observamos que el año en que X360 genero mas ventas en 2010, también se puede ver que en el periodo de 2011 a 2016 aun tiene ventas."
   ]
  },
  {
   "cell_type": "code",
   "execution_count": 49,
   "metadata": {},
   "outputs": [
    {
     "name": "stdout",
     "output_type": "stream",
     "text": [
      "year_of_release\n",
      "2006     29.27\n",
      "2007     73.19\n",
      "2008    118.52\n",
      "2009    130.93\n",
      "2010    142.17\n",
      "Name: total_sales, dtype: float64\n"
     ]
    }
   ],
   "source": [
    "# Buscamos el total de las ventas de PS3 por año\n",
    "filtered_ps3 = df_ice_data[df_ice_data[\"platform\"] == \"PS3\"]\n",
    "group_ps3 = filtered_ps3.groupby(\"year_of_release\")[\"total_sales\"].sum()\n",
    "print(group_ps3.head())"
   ]
  },
  {
   "cell_type": "code",
   "execution_count": 50,
   "metadata": {},
   "outputs": [
    {
     "data": {
      "image/png": "[encoded data removed]",
      "text/plain": [
       "<Figure size 640x480 with 1 Axes>"
      ]
     },
     "metadata": {},
     "output_type": "display_data"
    }
   ],
   "source": [
    "# Mostramos el gráfico PS3\n",
    "group_ps3.plot(kind=\"bar\",\n",
    "              xlabel=\"Año\",\n",
    "              ylabel=\"Ventas\",\n",
    "              title=\"Ventas de PS3\",\n",
    "              color= \"Olive\")\n",
    "\n",
    "plt.show()"
   ]
  },
  {
   "cell_type": "markdown",
   "metadata": {},
   "source": [
    "Los primeros años de su lanzamiento PS3 tiene una buena aceptación ya sé que refleja en las ventas hasta 2013, para 2014 y hasta 2016 estas ventas disminuyen."
   ]
  },
  {
   "cell_type": "markdown",
   "metadata": {},
   "source": [
    "### Descripción de las plataformas más vendidas de 1980-1999\n",
    "<a id=\"Descripción de las plataformas más vendidas 1980-1999\"></a>"
   ]
  },
  {
   "cell_type": "code",
   "execution_count": 51,
   "metadata": {},
   "outputs": [
    {
     "name": "stdout",
     "output_type": "stream",
     "text": [
      "year_of_release\n",
      "1994      6.03\n",
      "1995     35.96\n",
      "1996     94.70\n",
      "1997    136.17\n",
      "1998    169.49\n",
      "Name: total_sales, dtype: float64\n"
     ]
    }
   ],
   "source": [
    "# Buscamos el total de las ventas de PS por año\n",
    "filtered_ps = df_ice_data[df_ice_data[\"platform\"] == \"PS\"]\n",
    "group_ps = filtered_ps.groupby(\"year_of_release\")[\"total_sales\"].sum()\n",
    "print(group_ps.head())"
   ]
  },
  {
   "cell_type": "code",
   "execution_count": 52,
   "metadata": {},
   "outputs": [
    {
     "data": {
      "image/png": "[encoded data removed]",
      "text/plain": [
       "<Figure size 640x480 with 1 Axes>"
      ]
     },
     "metadata": {},
     "output_type": "display_data"
    }
   ],
   "source": [
    "# Mostramos el gráfico PS\n",
    "group_ps.plot(kind=\"bar\",\n",
    "              xlabel=\"Año\",\n",
    "              ylabel=\"Ventas\",\n",
    "              title=\"Ventas de PS\",\n",
    "              color= \"olive\")\n",
    "\n",
    "plt.show()"
   ]
  },
  {
   "cell_type": "markdown",
   "metadata": {},
   "source": [
    "PS tuvo su mayor numero de ventas en 1998 seguido por el año 1999, para 2002 tuvo su primer descenso considerable y el 2006 aún tuvo algunas ventas."
   ]
  },
  {
   "cell_type": "code",
   "execution_count": 53,
   "metadata": {},
   "outputs": [
    {
     "name": "stdout",
     "output_type": "stream",
     "text": [
      "year_of_release\n",
      "1983    10.96\n",
      "1984    50.08\n",
      "1985    53.44\n",
      "1986    36.41\n",
      "1987    19.76\n",
      "Name: total_sales, dtype: float64\n"
     ]
    }
   ],
   "source": [
    "# Buscamos el total de las ventas de NES por año\n",
    "filtered_nes = df_ice_data[df_ice_data[\"platform\"] == \"NES\"]\n",
    "group_nes = filtered_nes.groupby(\"year_of_release\")[\"total_sales\"].sum()\n",
    "print(group_nes.head())"
   ]
  },
  {
   "cell_type": "code",
   "execution_count": 54,
   "metadata": {},
   "outputs": [
    {
     "data": {
      "image/png": "[encoded data removed]",
      "text/plain": [
       "<Figure size 640x480 with 1 Axes>"
      ]
     },
     "metadata": {},
     "output_type": "display_data"
    }
   ],
   "source": [
    "# Mostramos el gráfico NES\n",
    "group_nes.plot(kind=\"bar\",\n",
    "              xlabel=\"Año\",\n",
    "              ylabel=\"Ventas\",\n",
    "              title=\"Ventas de NES\",\n",
    "              color= \"olive\")\n",
    "\n",
    "plt.show()"
   ]
  },
  {
   "cell_type": "markdown",
   "metadata": {},
   "source": [
    "En la plataforma NES se puedo observar que desde el segundo año de sus lanzamientos se registró altas ventas, hasta 1989 que fue uno de sus primeros descensos considerables, y siendo 1994 su último año en que se registraran ventas. "
   ]
  },
  {
   "cell_type": "code",
   "execution_count": 55,
   "metadata": {},
   "outputs": [
    {
     "name": "stdout",
     "output_type": "stream",
     "text": [
      "year_of_release\n",
      "1988     1.43\n",
      "1989    64.97\n",
      "1990     4.89\n",
      "1991     5.57\n",
      "1992    25.49\n",
      "Name: total_sales, dtype: float64\n"
     ]
    }
   ],
   "source": [
    "# Buscamos el total de las ventas de GB por año\n",
    "filtered_gb = df_ice_data[df_ice_data[\"platform\"] == \"GB\"]\n",
    "group_gb = filtered_gb.groupby(\"year_of_release\")[\"total_sales\"].sum()\n",
    "print(group_gb.head())"
   ]
  },
  {
   "cell_type": "code",
   "execution_count": 56,
   "metadata": {},
   "outputs": [
    {
     "data": {
      "image/png": "[encoded data removed]",
      "text/plain": [
       "<Figure size 640x480 with 1 Axes>"
      ]
     },
     "metadata": {},
     "output_type": "display_data"
    }
   ],
   "source": [
    "# Mostramos el gráfico GB\n",
    "group_gb.plot(kind=\"bar\",\n",
    "              xlabel=\"Año\",\n",
    "              ylabel=\"Ventas\",\n",
    "              title=\"Ventas de GB\",\n",
    "              color= \"olive\")\n",
    "\n",
    "plt.show()"
   ]
  },
  {
   "cell_type": "markdown",
   "metadata": {},
   "source": [
    "Se puede observar que la plataforma GB en su segundo año de lanzamientos registró su mayor venta, para 2006 este tuvo sus últimos lanzamientos y ventas registradas, las cuales comparándolas con su venta más alta tiene un descenso bastante considerable. "
   ]
  },
  {
   "cell_type": "markdown",
   "metadata": {},
   "source": [
    "### Los años con más ventas\n",
    "<a id=\"Los años con más ventas\"></a>"
   ]
  },
  {
   "cell_type": "code",
   "execution_count": 57,
   "metadata": {},
   "outputs": [
    {
     "name": "stdout",
     "output_type": "stream",
     "text": [
      "platform\n",
      "DC       0.04\n",
      "DS     145.31\n",
      "PC      12.42\n",
      "PS2     53.90\n",
      "PS3    118.52\n",
      "Name: total_sales, dtype: float64\n"
     ]
    }
   ],
   "source": [
    "# Mostramos las plataformas que obtuvieron ventas en 2008\n",
    "platform_2008 = df_ice_data[df_ice_data[\"year_of_release\"] == 2008]\n",
    "total_sales_2008 = platform_2008.groupby(\"platform\")[\"total_sales\"].sum()\n",
    "print(total_sales_2008.head())"
   ]
  },
  {
   "cell_type": "code",
   "execution_count": 59,
   "metadata": {
    "scrolled": true
   },
   "outputs": [
    {
     "data": {
      "image/png": "[encoded data removed]",
      "text/plain": [
       "<Figure size 640x480 with 1 Axes>"
      ]
     },
     "metadata": {},
     "output_type": "display_data"
    }
   ],
   "source": [
    "# Mostramos el gráfico de las ventas realizadas en 2008\n",
    "total_sales_2008.plot(kind=\"bar\",\n",
    "                      xlabel=\"Plataformas\",\n",
    "                      ylabel=\"Ventas\",\n",
    "                      title=\"Ventas en 2008\",\n",
    "                      color= \"olive\")\n",
    "\n",
    "plt.show()"
   ]
  },
  {
   "cell_type": "markdown",
   "metadata": {},
   "source": [
    "Para el año 2008 que fue en el que más se realizaron ventas, las plataformas que más sobresalen son Wii, seguido por DS y X360."
   ]
  },
  {
   "cell_type": "code",
   "execution_count": 60,
   "metadata": {},
   "outputs": [
    {
     "name": "stdout",
     "output_type": "stream",
     "text": [
      "platform\n",
      "DS     119.54\n",
      "PC      16.91\n",
      "PS2     26.40\n",
      "PS3    130.93\n",
      "PSP     37.78\n",
      "Name: total_sales, dtype: float64\n"
     ]
    }
   ],
   "source": [
    "# Mostramos las plataformas que obtuvieron ventas en 2009\n",
    "platform_2009 = df_ice_data[df_ice_data[\"year_of_release\"] == 2009]\n",
    "total_sales_2009 = platform_2009.groupby(\"platform\")[\"total_sales\"].sum()\n",
    "print(total_sales_2009.head())"
   ]
  },
  {
   "cell_type": "code",
   "execution_count": 62,
   "metadata": {},
   "outputs": [
    {
     "data": {
      "image/png": "[encoded data removed]",
      "text/plain": [
       "<Figure size 640x480 with 1 Axes>"
      ]
     },
     "metadata": {},
     "output_type": "display_data"
    }
   ],
   "source": [
    "# Mostramos el gráfico de las ventas realizadas en 2009\n",
    "total_sales_2009.plot(kind=\"bar\",\n",
    "                      xlabel=\"Plataformas\",\n",
    "                      ylabel=\"Ventas\",\n",
    "                      title=\"Ventas en 2009\",\n",
    "                      color= \"olive\")\n",
    "\n",
    "plt.show()"
   ]
  },
  {
   "cell_type": "markdown",
   "metadata": {},
   "source": [
    "Para el año 2009 que fue el segundo año con más ventas registradas, las plataformas que más sobresalen son Wii, PS3 y X360, aquí podemos ver que las plataformas Wii y X360 se repiten en ambos años. "
   ]
  },
  {
   "cell_type": "markdown",
   "metadata": {},
   "source": [
    "### Análisis de las puntuaciones\n",
    "<a id=\"Análisis de las puntuaciones\"></a>"
   ]
  },
  {
   "cell_type": "code",
   "execution_count": 63,
   "metadata": {},
   "outputs": [
    {
     "name": "stdout",
     "output_type": "stream",
     "text": [
      "critic_score\n",
      "13    0.04\n",
      "17    0.10\n",
      "19    0.62\n",
      "20    1.87\n",
      "21    0.12\n",
      "Name: total_sales, dtype: float64\n"
     ]
    }
   ],
   "source": [
    "filtered_critic_score = df_ice_data.groupby(\"critic_score\")[\"total_sales\"].sum()\n",
    "print(filtered_critic_score.head())"
   ]
  },
  {
   "cell_type": "code",
   "execution_count": 64,
   "metadata": {},
   "outputs": [
    {
     "data": {
      "image/png": "[encoded data removed]",
      "text/plain": [
       "<Figure size 640x480 with 1 Axes>"
      ]
     },
     "metadata": {},
     "output_type": "display_data"
    }
   ],
   "source": [
    "# Mostramos el gráfico de dispersión de critic_score\n",
    "filtered_critic_score.plot(title=\"Relación entre las ventas y las críticas\", \n",
    "                           x=\"critic_score\", \n",
    "                           y=\"total_sales\", \n",
    "                           style=\"o\", \n",
    "                           xlabel=\"Puntuación\",\n",
    "                           ylabel=\"Ventas totales\",\n",
    "                           color=\"olive\")\n",
    "\n",
    "plt.show()"
   ]
  },
  {
   "cell_type": "markdown",
   "metadata": {},
   "source": [
    "Como podemos observar la mayoría de los puntos se concentran en el eje x, por lo que podemos decir que, aunque aumenta la puntuación que los profesionales le dan a las plataformas las ventas que se realizan de estas no aumentan, también podemos decir que tenemos un valor atípico muy notable con una puntuación algo alta y con ventas de casi 3500, la mayor concentración de los datos esta entre las puntuaciones de 20 y 80."
   ]
  },
  {
   "cell_type": "code",
   "execution_count": 65,
   "metadata": {},
   "outputs": [
    {
     "name": "stdout",
     "output_type": "stream",
     "text": [
      "0.18977325512080193\n"
     ]
    }
   ],
   "source": [
    "# Obtenemos la correlacion de total_sales y critic_score\n",
    "correlation_critic_score = df_ice_data[\"critic_score\"].corr(df_ice_data[\"total_sales\"])\n",
    "print(correlation_critic_score)"
   ]
  },
  {
   "cell_type": "markdown",
   "metadata": {},
   "source": [
    "La correlación que se muestra entre las reseñas de los profesionales y las ventas totales tienen una correlación baja, lo que nos dice que la relación entre los dos aspectos es muy baja.   "
   ]
  },
  {
   "cell_type": "markdown",
   "metadata": {},
   "source": [
    "## Análisis por región \n",
    "<a id=\"Análisis por región\"></a>"
   ]
  },
  {
   "cell_type": "markdown",
   "metadata": {},
   "source": [
    "### Ventas en Norteamérica\n",
    "<a id=\"Ventas en Norteamérica\"></a>"
   ]
  },
  {
   "cell_type": "code",
   "execution_count": 69,
   "metadata": {},
   "outputs": [
    {
     "name": "stdout",
     "output_type": "stream",
     "text": [
      "platform\n",
      "2600     90.60\n",
      "3DO       0.00\n",
      "3DS      83.49\n",
      "DC        5.43\n",
      "DS      382.40\n",
      "Name: na_sales, dtype: float64\n"
     ]
    }
   ],
   "source": [
    "# Obtenemos las ventas totales por plataformas en Norteamérica\n",
    "sales_na_filter = df_ice_data.groupby(\"platform\")[\"na_sales\"].sum()\n",
    "print(sales_na_filter.head())"
   ]
  },
  {
   "cell_type": "code",
   "execution_count": 70,
   "metadata": {},
   "outputs": [
    {
     "data": {
      "image/png": "[encoded data removed]",
      "text/plain": [
       "<Figure size 640x480 with 1 Axes>"
      ]
     },
     "metadata": {},
     "output_type": "display_data"
    }
   ],
   "source": [
    "# Mostramos el gráfico de las ventas por plataforma en Norteamérica \n",
    "sales_na_filter.plot(title=\"Ventas por plataforma en Norteamérica\",\n",
    "                    kind=\"bar\",\n",
    "                    xlabel=\"Plataforma\",\n",
    "                    ylabel=\"Ventas (millones de dólares EU)\",\n",
    "                    color=\"olive\")\n",
    "\n",
    "plt.show()"
   ]
  },
  {
   "cell_type": "markdown",
   "metadata": {},
   "source": [
    "Como se puede observar en el gráfico la platafroma que tiene más ventas en Norteamérica es X360 con 602 millones de dólares, en segundo lugar esta PS2 y en tercer lugar esta Wii"
   ]
  },
  {
   "cell_type": "code",
   "execution_count": 71,
   "metadata": {},
   "outputs": [
    {
     "name": "stdout",
     "output_type": "stream",
     "text": [
      "genre\n",
      "Action       879.01\n",
      "Adventure    105.26\n",
      "Fighting     223.36\n",
      "Misc         407.27\n",
      "Platform     445.50\n",
      "Name: na_sales, dtype: float64\n"
     ]
    }
   ],
   "source": [
    "# Obtenemos las ventas totales por género en Norteamérica\n",
    "genre_na_filter = df_ice_data.groupby(\"genre\")[\"na_sales\"].sum()\n",
    "print(genre_na_filter.head())"
   ]
  },
  {
   "cell_type": "code",
   "execution_count": 72,
   "metadata": {},
   "outputs": [
    {
     "data": {
      "image/png": "[encoded data removed]",
      "text/plain": [
       "<Figure size 640x480 with 1 Axes>"
      ]
     },
     "metadata": {},
     "output_type": "display_data"
    }
   ],
   "source": [
    "# Mostramos el gráfico de las ventas por género en Norteamérica\n",
    "genre_na_filter.plot(title=\"Ventas por genero en Norteamérica\",\n",
    "                    kind=\"bar\",\n",
    "                    xlabel=\"Género\",\n",
    "                    ylabel=\"Ventas (millones de dólares EU)\",\n",
    "                    color=\"olive\")\n",
    "\n",
    "plt.xticks(rotation=45)\n",
    "plt.show()"
   ]
  },
  {
   "cell_type": "markdown",
   "metadata": {},
   "source": [
    "Observamos que en Norteamérica el género con más ventas es Acción con más de 800 millones de dólares vendidos, seguido por Deportes y el género menos vendido es el de Estrategia."
   ]
  },
  {
   "cell_type": "code",
   "execution_count": 73,
   "metadata": {},
   "outputs": [
    {
     "name": "stdout",
     "output_type": "stream",
     "text": [
      "rating\n",
      "AO                    1.26\n",
      "E                  1292.99\n",
      "E10+                353.32\n",
      "EC                    1.53\n",
      "K-A                   2.56\n",
      "M                   748.48\n",
      "RP                    0.00\n",
      "T                   759.75\n",
      "sin especificar    1242.46\n",
      "Name: na_sales, dtype: float64\n"
     ]
    }
   ],
   "source": [
    "# Obtenemos las ventas totales por clasificación en Norteamérica\n",
    "rating_na_filter = df_ice_data.groupby(\"rating\")[\"na_sales\"].sum()\n",
    "print(rating_na_filter)"
   ]
  },
  {
   "cell_type": "markdown",
   "metadata": {},
   "source": [
    "Una de las clasificaciones con más ventas en Norteamérica es la apta E (para todas las edades), con más de 1200 millones de dólares vendidos, seguida por la clasificacion T (apto para mayores de 13 años) con 759 millones de dólares vendidos."
   ]
  },
  {
   "cell_type": "markdown",
   "metadata": {},
   "source": [
    "###  Ventas en Europa\n",
    "<a id=\"Ventas en Europa\"></a>"
   ]
  },
  {
   "cell_type": "code",
   "execution_count": 74,
   "metadata": {},
   "outputs": [
    {
     "name": "stdout",
     "output_type": "stream",
     "text": [
      "platform\n",
      "2600      5.47\n",
      "3DO       0.00\n",
      "3DS      61.48\n",
      "DC        1.69\n",
      "DS      188.89\n",
      "Name: eu_sales, dtype: float64\n"
     ]
    }
   ],
   "source": [
    "# Obtenemos las ventas totales por plataformas en Europa\n",
    "sales_eu_filter = df_ice_data.groupby(\"platform\")[\"eu_sales\"].sum()\n",
    "print(sales_eu_filter.head())"
   ]
  },
  {
   "cell_type": "code",
   "execution_count": 75,
   "metadata": {},
   "outputs": [
    {
     "data": {
      "image/png": "[encoded data removed]",
      "text/plain": [
       "<Figure size 640x480 with 1 Axes>"
      ]
     },
     "metadata": {},
     "output_type": "display_data"
    }
   ],
   "source": [
    "# Mostramos el gráfico de las ventas por plataforma en Europa\n",
    "sales_eu_filter.plot(title=\"Ventas por plataforma en Europa\",\n",
    "                    kind=\"bar\",\n",
    "                    xlabel=\"Plataforma\",\n",
    "                    ylabel=\"Ventas (millones de dólares EU)\",\n",
    "                    color=\"olive\")\n",
    "\n",
    "plt.show()"
   ]
  },
  {
   "cell_type": "markdown",
   "metadata": {},
   "source": [
    "Observamos que la platafroma más vendida en Europa es PS2 con más de 300 millones de dólares vendidos, en segundo lugar esta la plataforma PS3."
   ]
  },
  {
   "cell_type": "code",
   "execution_count": 76,
   "metadata": {},
   "outputs": [
    {
     "name": "stdout",
     "output_type": "stream",
     "text": [
      "genre\n",
      "Action       519.13\n",
      "Adventure     63.54\n",
      "Fighting     100.33\n",
      "Misc         212.74\n",
      "Platform     200.35\n",
      "Name: eu_sales, dtype: float64\n"
     ]
    }
   ],
   "source": [
    "# Obtenemos las ventas totales por género en Europa\n",
    "genre_eu_filter = df_ice_data.groupby(\"genre\")[\"eu_sales\"].sum()\n",
    "print(genre_eu_filter.head())"
   ]
  },
  {
   "cell_type": "code",
   "execution_count": 77,
   "metadata": {},
   "outputs": [
    {
     "data": {
      "image/png": "[encoded data removed]",
      "text/plain": [
       "<Figure size 640x480 with 1 Axes>"
      ]
     },
     "metadata": {},
     "output_type": "display_data"
    }
   ],
   "source": [
    "# Mostramos el gráfico de las ventas por género en Europa\n",
    "genre_eu_filter.plot(title=\"Ventas por genero en Europa\",\n",
    "                    kind=\"bar\",\n",
    "                    xlabel=\"Género\",\n",
    "                    ylabel=\"Ventas (millones de dólares EU)\",\n",
    "                    color=\"olive\")\n",
    "\n",
    "plt.xticks(rotation=45)\n",
    "plt.show()"
   ]
  },
  {
   "cell_type": "markdown",
   "metadata": {},
   "source": [
    "El género que más se vende en Europa con 519 millones de dólares es el de Acción, en segundo lugar esta el género de Deportes y en tercer lugar esta el género de Juego de roles."
   ]
  },
  {
   "cell_type": "code",
   "execution_count": 78,
   "metadata": {},
   "outputs": [
    {
     "name": "stdout",
     "output_type": "stream",
     "text": [
      "rating\n",
      "AO                   0.61\n",
      "E                  710.25\n",
      "E10+               188.52\n",
      "EC                   0.11\n",
      "K-A                  0.27\n",
      "M                  483.97\n",
      "RP                   0.08\n",
      "T                  427.03\n",
      "sin especificar    613.83\n",
      "Name: eu_sales, dtype: float64\n"
     ]
    }
   ],
   "source": [
    "# Obtenemos las ventas totales por clasificación en Europa\n",
    "rating_eu_filter = df_ice_data.groupby(\"rating\")[\"eu_sales\"].sum()\n",
    "print(rating_eu_filter)"
   ]
  },
  {
   "cell_type": "markdown",
   "metadata": {},
   "source": [
    "La clasificación que con más ventas es la E (apto para todas las edades), la M (apto para mayores de 17 años) y las que menos tiene ventas son RP y AO (apto solo para adultos)."
   ]
  },
  {
   "cell_type": "markdown",
   "metadata": {},
   "source": [
    "### Ventas en Japón\n",
    "<a id=\"Ventas en Japón\"></a>"
   ]
  },
  {
   "cell_type": "code",
   "execution_count": 79,
   "metadata": {},
   "outputs": [
    {
     "name": "stdout",
     "output_type": "stream",
     "text": [
      "platform\n",
      "2600      0.00\n",
      "3DO       0.10\n",
      "3DS     100.67\n",
      "DC        8.56\n",
      "DS      175.57\n",
      "Name: jp_sales, dtype: float64\n"
     ]
    }
   ],
   "source": [
    "# Obtenemos las ventas totales por plataformas en Japón\n",
    "sales_jp_filter = df_ice_data.groupby(\"platform\")[\"jp_sales\"].sum()\n",
    "print(sales_jp_filter.head())"
   ]
  },
  {
   "cell_type": "code",
   "execution_count": 80,
   "metadata": {},
   "outputs": [
    {
     "data": {
      "image/png": "[encoded data removed]",
      "text/plain": [
       "<Figure size 640x480 with 1 Axes>"
      ]
     },
     "metadata": {},
     "output_type": "display_data"
    }
   ],
   "source": [
    "# Mostramos el gráfico de las ventas por plataforma en Japón\n",
    "sales_jp_filter.plot(title=\"Ventas por plataforma en Japón\",\n",
    "                    kind=\"bar\",\n",
    "                    xlabel=\"Plataforma\",\n",
    "                    ylabel=\"Ventas (millones de dólares EU)\",\n",
    "                    color=\"olive\")\n",
    "\n",
    "plt.show()"
   ]
  },
  {
   "cell_type": "markdown",
   "metadata": {},
   "source": [
    "La platafroma con más ventas en Japón es DS con 175 millones de dólares vendidos, seguido por PS y PS2."
   ]
  },
  {
   "cell_type": "code",
   "execution_count": 81,
   "metadata": {},
   "outputs": [
    {
     "name": "stdout",
     "output_type": "stream",
     "text": [
      "genre\n",
      "Action       161.43\n",
      "Adventure     52.30\n",
      "Fighting      87.48\n",
      "Misc         108.11\n",
      "Platform     130.83\n",
      "Name: jp_sales, dtype: float64\n"
     ]
    }
   ],
   "source": [
    "# Obtenemos las ventas totales por genero en Japón\n",
    "genre_jp_filter = df_ice_data.groupby(\"genre\")[\"jp_sales\"].sum()\n",
    "print(genre_jp_filter.head())"
   ]
  },
  {
   "cell_type": "code",
   "execution_count": 82,
   "metadata": {},
   "outputs": [
    {
     "data": {
      "image/png": "[encoded data removed]",
      "text/plain": [
       "<Figure size 640x480 with 1 Axes>"
      ]
     },
     "metadata": {},
     "output_type": "display_data"
    }
   ],
   "source": [
    "# Mostramos el gráfico de las ventas por genero en Japón\n",
    "genre_jp_filter.plot(title=\"Ventas por genero en Japón\",\n",
    "                    kind=\"bar\",\n",
    "                    xlabel=\"Genero\",\n",
    "                    ylabel=\"Ventas (millones de dólares EU)\",\n",
    "                    color=\"olive\")\n",
    "\n",
    "plt.xticks(rotation=45)\n",
    "plt.show()"
   ]
  },
  {
   "cell_type": "markdown",
   "metadata": {},
   "source": [
    "El genero más vendido en Japón es de Juego de roles, el cual reprecenta un porcentaje considerable de las ventas por genero en Japón, otro de los generos más vendidos es el de Acción."
   ]
  },
  {
   "cell_type": "code",
   "execution_count": 83,
   "metadata": {},
   "outputs": [
    {
     "name": "stdout",
     "output_type": "stream",
     "text": [
      "rating\n",
      "AO                   0.00\n",
      "E                  198.11\n",
      "E10+                40.20\n",
      "EC                   0.00\n",
      "K-A                  1.46\n",
      "M                   64.24\n",
      "RP                   0.00\n",
      "T                  151.40\n",
      "sin especificar    841.96\n",
      "Name: jp_sales, dtype: float64\n"
     ]
    }
   ],
   "source": [
    "# Obtenemos las ventas totales por clasificación en Japón\n",
    "rating_jp_filter = df_ice_data.groupby(\"rating\")[\"jp_sales\"].sum()\n",
    "print(rating_jp_filter)"
   ]
  },
  {
   "cell_type": "markdown",
   "metadata": {},
   "source": [
    "En Japón las ventas que más se realizaron fueron las de clasificación E (apto para todas las edades) y la T (apto para mayores de 13 años."
   ]
  },
  {
   "cell_type": "markdown",
   "metadata": {},
   "source": [
    "### Otras ventas\n",
    "<a id=\"Otras ventas\"></a>"
   ]
  },
  {
   "cell_type": "code",
   "execution_count": 84,
   "metadata": {},
   "outputs": [
    {
     "name": "stdout",
     "output_type": "stream",
     "text": [
      "platform\n",
      "2600     0.91\n",
      "3DO      0.00\n",
      "3DS     13.36\n",
      "DC       0.27\n",
      "DS      59.26\n",
      "Name: other_sales, dtype: float64\n"
     ]
    }
   ],
   "source": [
    "# Obtenemos las ventas totales por plataformas de otras ventas\n",
    "sales_ot_filter = df_ice_data.groupby(\"platform\")[\"other_sales\"].sum()\n",
    "print(sales_ot_filter.head())"
   ]
  },
  {
   "cell_type": "code",
   "execution_count": 85,
   "metadata": {},
   "outputs": [
    {
     "data": {
      "image/png": "[encoded data removed]",
      "text/plain": [
       "<Figure size 640x480 with 1 Axes>"
      ]
     },
     "metadata": {},
     "output_type": "display_data"
    }
   ],
   "source": [
    "# Mostramos el gráfico de las ventas por plataforma de otras ventas\n",
    "sales_ot_filter.plot(title=\"Otras ventas por plataforma\",\n",
    "                    kind=\"bar\",\n",
    "                    xlabel=\"Plataforma\",\n",
    "                    ylabel=\"Ventas (millones de dólares EU)\",\n",
    "                    color=\"olive\")\n",
    "\n",
    "plt.show()"
   ]
  },
  {
   "cell_type": "markdown",
   "metadata": {},
   "source": [
    "En otras ventas realizadas la plataforma que más destaca por sus ventas es PS2 con poco más de 175 millones de dólares vendidos, seguido por PS3 y en tercer lugar en ventas esta X360. "
   ]
  },
  {
   "cell_type": "code",
   "execution_count": 86,
   "metadata": {},
   "outputs": [
    {
     "name": "stdout",
     "output_type": "stream",
     "text": [
      "genre\n",
      "Action       184.60\n",
      "Adventure     16.49\n",
      "Fighting      36.36\n",
      "Misc          74.39\n",
      "Platform      51.09\n",
      "Name: other_sales, dtype: float64\n"
     ]
    }
   ],
   "source": [
    "# Obtenemos las ventas totales por género de otras ventas\n",
    "genre_ot_filter = df_ice_data.groupby(\"genre\")[\"other_sales\"].sum()\n",
    "print(genre_ot_filter.head())"
   ]
  },
  {
   "cell_type": "code",
   "execution_count": 87,
   "metadata": {},
   "outputs": [
    {
     "data": {
      "image/png": "[encoded data removed]",
      "text/plain": [
       "<Figure size 640x480 with 1 Axes>"
      ]
     },
     "metadata": {},
     "output_type": "display_data"
    }
   ],
   "source": [
    "# Mostramos el gráfico de las ventas por género de otras ventas\n",
    "genre_ot_filter.plot(title=\"Otras Ventas por género\",\n",
    "                    kind=\"bar\",\n",
    "                    xlabel=\"Género\",\n",
    "                    ylabel=\"Ventas (millones de dólares EU)\",\n",
    "                    color=\"olive\")\n",
    "\n",
    "plt.xticks(rotation=45)\n",
    "plt.show()"
   ]
  },
  {
   "cell_type": "markdown",
   "metadata": {},
   "source": [
    "Con 184 millones de dólares vendidos el género de Acción es en el más vendido, seguido por el de Deportes con poco mas de 125 millones de dólares vendidos."
   ]
  },
  {
   "cell_type": "code",
   "execution_count": 88,
   "metadata": {},
   "outputs": [
    {
     "name": "stdout",
     "output_type": "stream",
     "text": [
      "rating\n",
      "AO                   0.09\n",
      "E                  234.17\n",
      "E10+                73.56\n",
      "EC                   0.11\n",
      "K-A                  0.03\n",
      "M                  177.10\n",
      "RP                   0.01\n",
      "T                  155.17\n",
      "sin especificar    151.08\n",
      "Name: other_sales, dtype: float64\n"
     ]
    }
   ],
   "source": [
    "# Obtenemos las ventas totales por clasificación de otras ventas\n",
    "rating_ot_filter = df_ice_data.groupby(\"rating\")[\"other_sales\"].sum()\n",
    "print(rating_ot_filter)"
   ]
  },
  {
   "cell_type": "markdown",
   "metadata": {},
   "source": [
    "Las ventas que se regitraron de acuerdo a las clasificasiones de otras ventas en primer lugar tenemos a la clasificación E (apto para todas las edades y M (apto para mayores de 17 años). "
   ]
  },
  {
   "cell_type": "markdown",
   "metadata": {},
   "source": [
    "## Prueba de hipótesis\n",
    "<a id=\"Prueba de hipótesis\"></a>"
   ]
  },
  {
   "cell_type": "markdown",
   "metadata": {},
   "source": [
    "Hipótesis nula: las calificaciones promedio de de los usuarios para las platafromas PS2 y PS son las mismas.\n",
    "\n",
    "Hipótesis alternativa: las calificaciones promedio de de los usuarios para las platafromas PS2 y PS no son las mismas."
   ]
  },
  {
   "cell_type": "code",
   "execution_count": 91,
   "metadata": {},
   "outputs": [],
   "source": [
    "ps2_hip = df_ice_data[df_ice_data[\"platform\"] == \"PS2\"]\n",
    "score_ps2 = ps2_hip[\"user_score\"]\n",
    "ps_hip = df_ice_data[df_ice_data[\"platform\"] == \"PS\"]\n",
    "score_ps = ps_hip[\"user_score\"]"
   ]
  },
  {
   "cell_type": "code",
   "execution_count": 98,
   "metadata": {},
   "outputs": [
    {
     "name": "stdout",
     "output_type": "stream",
     "text": [
      "valor p:  0.0014547084927952765\n",
      "Se rechaza la hipótesis nula: las varianzas son diferentes.\n"
     ]
    }
   ],
   "source": [
    "# Prueba de la hipótesis 1\n",
    "# Realizar la prueba de Levene\n",
    "levene_hip_1 = levene(ps2_hip[\"user_score\"], ps_hip[\"user_score\"])\n",
    "\n",
    "alpha = 0.05\n",
    "\n",
    "results = st.ttest_ind(score_ps2, score_ps, equal_var= False)\n",
    "\n",
    "print(\"valor p: \", results.pvalue)\n",
    "\n",
    "if p_value > alpha:\n",
    "    print('No se rechaza la hipótesis nula: las varianzas son iguales.')\n",
    "else:\n",
    "    print('Se rechaza la hipótesis nula: las varianzas son diferentes.')"
   ]
  },
  {
   "cell_type": "markdown",
   "metadata": {},
   "source": [
    "Las plataformas escogidas para realizar esta hipótesis es PS2 por ser las más vendida en periodo 2000-2016 y la plataforma PS por ser la más vendida en el periodo 1980-1999."
   ]
  },
  {
   "cell_type": "markdown",
   "metadata": {},
   "source": [
    "Hipótesis nula: las calificaciones promedio de los usuarios  para los generos de acción y deportes son diferentes.\n",
    "\n",
    "Hipótesis alternativa: las calificaciones promedio de los usuarios para los generos de acción y deportes no son diferentes. "
   ]
  },
  {
   "cell_type": "code",
   "execution_count": 96,
   "metadata": {},
   "outputs": [],
   "source": [
    "action_hip = df_ice_data[df_ice_data[\"genre\"] == \"Action\"]\n",
    "score_action = action_hip[\"user_score\"]\n",
    "sports_hip = df_ice_data[df_ice_data[\"genre\"] == \"Sports\"]\n",
    "score_sports = sports_hip[\"user_score\"]"
   ]
  },
  {
   "cell_type": "code",
   "execution_count": 99,
   "metadata": {},
   "outputs": [
    {
     "name": "stdout",
     "output_type": "stream",
     "text": [
      "valor p:  7.076545408683597e-12\n",
      "Se rechaza la hipótesis nula: las varianzas son diferentes.\n"
     ]
    }
   ],
   "source": [
    "# Prueba de la hipótesis 2\n",
    "# Realizar la prueba de Levene\n",
    "levene_hip_1 = levene(action_hip[\"user_score\"], sports_hip[\"user_score\"])\n",
    "\n",
    "alpha = 0.05\n",
    "\n",
    "results = st.ttest_ind(score_action, score_sports, equal_var= False) \n",
    "\n",
    "print(\"valor p: \", results.pvalue) \n",
    "\n",
    "if p_value > alpha:\n",
    "    print('No se rechaza la hipótesis nula: las varianzas son iguales.')\n",
    "else:\n",
    "    print('Se rechaza la hipótesis nula: las varianzas son diferentes.')"
   ]
  },
  {
   "cell_type": "markdown",
   "metadata": {},
   "source": [
    "Estos géneros fueron escogidos para esta hipótesis debido a que son los géneros más populares."
   ]
  },
  {
   "cell_type": "markdown",
   "metadata": {},
   "source": [
    "## Conclusiones \n",
    "<a id=\"Conclusiones\"></a>"
   ]
  },
  {
   "cell_type": "markdown",
   "metadata": {},
   "source": [
    "Después de realizar el análisis pertinente a los datos de Ice, el cual realizamos con la intención de obtener información a cerca de las plataformas prometedoras para incluirlas en el año 2017, podemos decir que:\n",
    "\n",
    "- Existen varias plataformas las cuales se han encontrado adecuadas para volver a incluir en el año 2017, tales como:\n",
    "    \n",
    "    PS2:\n",
    "    - Esta es una de las plataformas que obtuvo más ventas en el periodo de 1980 a 2016.\n",
    "    - Obteniendo ventas desde el año 2000 a hasta el año 2011, esto quiere decir que estuvo generando ingresos por 12 años.\n",
    "    - Tiene el segundo puesto como plataforma más vendida en Norteamérica con 583 millones de dólares vendidos.\n",
    "    - El primer puesto en Europa con 339 millones de dólares vendidos.\n",
    "    - Además es la tercera plataforma más vendida en Japón con 139 millones de dólares vendidos y el primer lugar en ventas de otras ventas con 193 millones de dólares vendidos.\n",
    "    \n",
    "    X360:\n",
    "    - Esta plataforma es otra buena opción al ser la segunda plataforma con más ventas en el periodo de 1980 a 2016.\n",
    "    - En el periodo de 2000 a 2016 está posicionado en el segundo lugar con más ventas.\n",
    "    - Para las ventas realizadas en Norteamérica es la plataforma más vendida con 602 millones de dólares.\n",
    "    - En otras ventas realizadas obtuvo 85 millones de dólares siendo la tercera plataforma más vendida.\n",
    "    - Tuvo ventas en el periodo de 2005 a 2016 estando 12 años generando ingresos.\n",
    "    \n",
    "    PS3:\n",
    "    - El periodo de1980 a 2016 es la tercera plataforma más vendida.\n",
    "    - En el periodo de 2000 a 2016 es de igual forma la tercera plataforma más vendida.\n",
    "    - La plataforma tiene ventas desde el 2006 hasta el 2016, siendo 11 años en la que estuvo realizando ventas.\n",
    "    - En Norteamérica tiene ventas de 393 millones de dólares, posicionándose como la cuarta plataforma más vendida.\n",
    "    - Otras ventas que se han realizado se tiene el registro de 135 millones de dólares obtenidos.\n",
    "    \n",
    "- Otras plataformas que se destacan de entre las 31 plataformas que también podrían ser consideradas son:\n",
    "    - Wii es otra buena opción para ser considerada, en Norteamérica ocupa el tercer lugar en ventas con 496 millones de dólares, en Europa ocupa el cuarto lugar con 262 millones de dólares vendidos, es una de las plataformas más vendidas en el año en que más se registraron ventas (2008) y en también el número uno en las ventas del segundo año con más ventas registradas (2009).\n",
    "    - DS es otra buena opción a considerar, en Japón es la plataforma más vendida con 175 millones de dólares vendidos, aunque en las demás regiones este entre la cuarta o quinta plataforma más vendida en el año 2008 es la segunda plataforma con más ventas.\n",
    "    \n",
    "- El género es otro de los puntos a considerar para la selección de plataformas es el género siendo el de Acción el género más vendido en Norteamérica, Europa y otras ventas, el general se obtuvieron ventas de 1744 millones de dólares vendidos, otro de los géneros a considerar es el de Deportes siendo en segundo más vendido en Norteamérica, Europa y otras ventas. Para Japón el género a considerar es el de Juego de roles ya que es de lo más vendido en esta región. \n",
    "\n",
    "- La clasificación es otro punto a considerar siendo E (apto para todas las edades) el más vendido en Norteamérica, Europa y otras ventas, para Japón las ventas que más se realizaron las de acuerdo a la clasificación están sin especificar, pero la segunda más vendida es la clasificación E (apto para todas las edades)."
   ]
  }
 ],
 "metadata": {
  "ExecuteTimeLog": [
   {
    "duration": 14,
    "start_time": "2024-06-21T21:16:09.799Z"
   },
   {
    "duration": 3,
    "start_time": "2024-06-21T21:25:05.276Z"
   },
   {
    "duration": 3,
    "start_time": "2024-06-21T21:25:11.812Z"
   },
   {
    "duration": 5307,
    "start_time": "2024-06-21T21:28:24.586Z"
   },
   {
    "duration": 55,
    "start_time": "2024-06-21T21:44:38.209Z"
   },
   {
    "duration": 250,
    "start_time": "2024-06-21T21:45:06.844Z"
   },
   {
    "duration": 59,
    "start_time": "2024-06-21T21:45:31.806Z"
   },
   {
    "duration": 5262,
    "start_time": "2024-06-21T22:58:13.654Z"
   },
   {
    "duration": 122,
    "start_time": "2024-06-21T22:58:27.258Z"
   },
   {
    "duration": 20,
    "start_time": "2024-06-21T23:01:25.395Z"
   },
   {
    "duration": 423,
    "start_time": "2024-06-21T23:11:50.971Z"
   },
   {
    "duration": 26,
    "start_time": "2024-06-21T23:14:15.669Z"
   },
   {
    "duration": 7,
    "start_time": "2024-06-21T23:32:39.093Z"
   },
   {
    "duration": 26,
    "start_time": "2024-06-21T23:48:27.508Z"
   },
   {
    "duration": 6,
    "start_time": "2024-06-21T23:48:37.217Z"
   },
   {
    "duration": 6,
    "start_time": "2024-06-21T23:49:08.349Z"
   },
   {
    "duration": 6,
    "start_time": "2024-06-21T23:51:14.922Z"
   },
   {
    "duration": 6,
    "start_time": "2024-06-21T23:51:17.194Z"
   },
   {
    "duration": 50,
    "start_time": "2024-06-22T00:06:57.380Z"
   },
   {
    "duration": 15,
    "start_time": "2024-06-22T00:07:13.583Z"
   },
   {
    "duration": 8,
    "start_time": "2024-06-22T00:09:20.437Z"
   },
   {
    "duration": 6,
    "start_time": "2024-06-22T00:09:34.688Z"
   },
   {
    "duration": 9,
    "start_time": "2024-06-22T00:10:52.793Z"
   },
   {
    "duration": 14,
    "start_time": "2024-06-22T00:20:50.553Z"
   },
   {
    "duration": 4907,
    "start_time": "2024-06-22T01:44:23.276Z"
   },
   {
    "duration": 452,
    "start_time": "2024-06-22T01:44:35.710Z"
   },
   {
    "duration": 50,
    "start_time": "2024-06-22T01:44:55.828Z"
   },
   {
    "duration": 18,
    "start_time": "2024-06-22T01:45:02.144Z"
   },
   {
    "duration": 8,
    "start_time": "2024-06-22T01:45:08.818Z"
   },
   {
    "duration": 7,
    "start_time": "2024-06-22T01:45:12.554Z"
   },
   {
    "duration": 10,
    "start_time": "2024-06-22T01:45:15.399Z"
   },
   {
    "duration": 12,
    "start_time": "2024-06-22T01:45:17.737Z"
   },
   {
    "duration": 30,
    "start_time": "2024-06-22T02:05:36.800Z"
   },
   {
    "duration": 25,
    "start_time": "2024-06-22T02:06:17.688Z"
   },
   {
    "duration": 4,
    "start_time": "2024-06-22T02:10:47.052Z"
   },
   {
    "duration": 7,
    "start_time": "2024-06-22T02:13:02.105Z"
   },
   {
    "duration": 15,
    "start_time": "2024-06-22T02:13:18.278Z"
   },
   {
    "duration": 8,
    "start_time": "2024-06-22T02:13:26.333Z"
   },
   {
    "duration": 17,
    "start_time": "2024-06-22T02:16:53.165Z"
   },
   {
    "duration": 9,
    "start_time": "2024-06-22T02:18:00.122Z"
   },
   {
    "duration": 7,
    "start_time": "2024-06-22T02:19:54.223Z"
   },
   {
    "duration": 28,
    "start_time": "2024-06-22T02:21:49.817Z"
   },
   {
    "duration": 28,
    "start_time": "2024-06-22T02:22:28.682Z"
   },
   {
    "duration": 25,
    "start_time": "2024-06-22T02:22:46.659Z"
   },
   {
    "duration": 25,
    "start_time": "2024-06-22T02:23:09.372Z"
   },
   {
    "duration": 8,
    "start_time": "2024-06-22T02:23:18.231Z"
   },
   {
    "duration": 8,
    "start_time": "2024-06-22T02:23:21.490Z"
   },
   {
    "duration": 10,
    "start_time": "2024-06-22T02:29:45.162Z"
   },
   {
    "duration": 8,
    "start_time": "2024-06-22T02:30:42.429Z"
   },
   {
    "duration": 4939,
    "start_time": "2024-06-22T04:59:18.999Z"
   },
   {
    "duration": 67,
    "start_time": "2024-06-22T04:59:33.704Z"
   },
   {
    "duration": 15,
    "start_time": "2024-06-22T04:59:39.968Z"
   },
   {
    "duration": 7,
    "start_time": "2024-06-22T04:59:48.068Z"
   },
   {
    "duration": 7,
    "start_time": "2024-06-22T04:59:56.220Z"
   },
   {
    "duration": 8,
    "start_time": "2024-06-22T05:00:23.806Z"
   },
   {
    "duration": 15,
    "start_time": "2024-06-22T05:00:28.727Z"
   },
   {
    "duration": 17,
    "start_time": "2024-06-22T05:05:33.014Z"
   },
   {
    "duration": 12,
    "start_time": "2024-06-22T05:05:35.906Z"
   },
   {
    "duration": 17,
    "start_time": "2024-06-22T05:05:55.807Z"
   },
   {
    "duration": 12,
    "start_time": "2024-06-22T05:05:57.092Z"
   },
   {
    "duration": 13,
    "start_time": "2024-06-22T05:17:06.427Z"
   },
   {
    "duration": 453,
    "start_time": "2024-06-22T05:18:04.447Z"
   },
   {
    "duration": 1194,
    "start_time": "2024-06-22T05:18:15.397Z"
   },
   {
    "duration": 4972,
    "start_time": "2024-06-22T17:36:04.129Z"
   },
   {
    "duration": 70,
    "start_time": "2024-06-22T17:36:12.416Z"
   },
   {
    "duration": 14,
    "start_time": "2024-06-22T17:36:21.690Z"
   },
   {
    "duration": 7,
    "start_time": "2024-06-22T17:36:30.822Z"
   },
   {
    "duration": 8,
    "start_time": "2024-06-22T17:36:35.701Z"
   },
   {
    "duration": 438,
    "start_time": "2024-06-22T17:41:28.698Z"
   },
   {
    "duration": 40,
    "start_time": "2024-06-22T17:42:28.358Z"
   },
   {
    "duration": 8,
    "start_time": "2024-06-22T17:48:37.264Z"
   },
   {
    "duration": 13,
    "start_time": "2024-06-22T17:48:41.328Z"
   },
   {
    "duration": 38,
    "start_time": "2024-06-22T18:21:18.007Z"
   },
   {
    "duration": 13,
    "start_time": "2024-06-22T18:21:19.564Z"
   },
   {
    "duration": 87,
    "start_time": "2024-06-22T18:21:40.848Z"
   },
   {
    "duration": 12,
    "start_time": "2024-06-22T18:21:42.940Z"
   },
   {
    "duration": 7,
    "start_time": "2024-06-22T18:22:21.887Z"
   },
   {
    "duration": 11,
    "start_time": "2024-06-22T18:22:23.947Z"
   },
   {
    "duration": 16,
    "start_time": "2024-06-22T18:27:55.668Z"
   },
   {
    "duration": 5000,
    "start_time": "2024-06-24T17:06:05.966Z"
   },
   {
    "duration": 74,
    "start_time": "2024-06-24T17:06:10.970Z"
   },
   {
    "duration": 17,
    "start_time": "2024-06-24T17:06:11.047Z"
   },
   {
    "duration": 8,
    "start_time": "2024-06-24T17:06:20.007Z"
   },
   {
    "duration": 8,
    "start_time": "2024-06-24T17:06:22.230Z"
   },
   {
    "duration": 8,
    "start_time": "2024-06-24T17:06:27.355Z"
   },
   {
    "duration": 20,
    "start_time": "2024-06-24T17:07:21.974Z"
   },
   {
    "duration": 19,
    "start_time": "2024-06-24T17:07:29.108Z"
   },
   {
    "duration": 20,
    "start_time": "2024-06-24T17:11:15.489Z"
   },
   {
    "duration": 19,
    "start_time": "2024-06-24T17:11:23.422Z"
   },
   {
    "duration": 14,
    "start_time": "2024-06-24T17:22:06.598Z"
   },
   {
    "duration": 13,
    "start_time": "2024-06-24T17:23:02.470Z"
   },
   {
    "duration": 9,
    "start_time": "2024-06-24T17:23:16.004Z"
   },
   {
    "duration": 7,
    "start_time": "2024-06-24T17:23:34.761Z"
   },
   {
    "duration": 6,
    "start_time": "2024-06-24T17:28:50.728Z"
   },
   {
    "duration": 8,
    "start_time": "2024-06-24T17:29:05.704Z"
   },
   {
    "duration": 8,
    "start_time": "2024-06-24T17:30:47.956Z"
   },
   {
    "duration": 10,
    "start_time": "2024-06-24T17:32:49.978Z"
   },
   {
    "duration": 4929,
    "start_time": "2024-06-24T18:43:50.569Z"
   },
   {
    "duration": 69,
    "start_time": "2024-06-24T18:43:55.501Z"
   },
   {
    "duration": 15,
    "start_time": "2024-06-24T18:43:58.315Z"
   },
   {
    "duration": 7,
    "start_time": "2024-06-24T18:44:02.809Z"
   },
   {
    "duration": 13,
    "start_time": "2024-06-24T18:44:07.404Z"
   },
   {
    "duration": 18,
    "start_time": "2024-06-24T18:44:12.819Z"
   },
   {
    "duration": 9,
    "start_time": "2024-06-24T18:44:14.047Z"
   },
   {
    "duration": 17,
    "start_time": "2024-06-24T18:44:15.147Z"
   },
   {
    "duration": 14,
    "start_time": "2024-06-24T18:44:31.382Z"
   },
   {
    "duration": 12,
    "start_time": "2024-06-24T18:44:35.351Z"
   },
   {
    "duration": 13,
    "start_time": "2024-06-24T18:44:38.709Z"
   },
   {
    "duration": 7,
    "start_time": "2024-06-24T18:44:43.013Z"
   },
   {
    "duration": 10,
    "start_time": "2024-06-24T18:44:46.796Z"
   },
   {
    "duration": 13,
    "start_time": "2024-06-24T18:48:35.507Z"
   },
   {
    "duration": 557,
    "start_time": "2024-06-24T18:49:36.193Z"
   },
   {
    "duration": 5,
    "start_time": "2024-06-24T18:54:30.459Z"
   },
   {
    "duration": 14,
    "start_time": "2024-06-24T18:55:44.602Z"
   },
   {
    "duration": 32,
    "start_time": "2024-06-24T19:12:08.139Z"
   },
   {
    "duration": 21,
    "start_time": "2024-06-24T19:12:16.264Z"
   },
   {
    "duration": 1575,
    "start_time": "2024-06-24T19:16:00.309Z"
   },
   {
    "duration": 8,
    "start_time": "2024-06-24T19:16:44.008Z"
   },
   {
    "duration": 199,
    "start_time": "2024-06-24T19:17:33.226Z"
   },
   {
    "duration": 16,
    "start_time": "2024-06-24T19:21:42.129Z"
   },
   {
    "duration": 20,
    "start_time": "2024-06-24T19:42:52.843Z"
   },
   {
    "duration": 16,
    "start_time": "2024-06-24T19:46:23.808Z"
   },
   {
    "duration": 27,
    "start_time": "2024-06-24T19:54:17.282Z"
   },
   {
    "duration": 29,
    "start_time": "2024-06-24T19:55:21.127Z"
   },
   {
    "duration": 7,
    "start_time": "2024-06-24T19:55:34.471Z"
   },
   {
    "duration": 80,
    "start_time": "2024-06-24T21:08:59.154Z"
   },
   {
    "duration": 21,
    "start_time": "2024-06-24T21:09:07.910Z"
   },
   {
    "duration": 15,
    "start_time": "2024-06-24T21:09:15.581Z"
   },
   {
    "duration": 14,
    "start_time": "2024-06-24T21:09:17.938Z"
   },
   {
    "duration": 34,
    "start_time": "2024-06-24T21:09:21.455Z"
   },
   {
    "duration": 11,
    "start_time": "2024-06-24T21:09:23.904Z"
   },
   {
    "duration": 24,
    "start_time": "2024-06-24T21:09:26.219Z"
   },
   {
    "duration": 15,
    "start_time": "2024-06-24T21:09:29.090Z"
   },
   {
    "duration": 24,
    "start_time": "2024-06-24T21:09:32.096Z"
   },
   {
    "duration": 21,
    "start_time": "2024-06-24T21:09:35.550Z"
   },
   {
    "duration": 14,
    "start_time": "2024-06-24T21:09:40.266Z"
   },
   {
    "duration": 13,
    "start_time": "2024-06-24T21:09:44.620Z"
   },
   {
    "duration": 31,
    "start_time": "2024-06-24T21:09:50.799Z"
   },
   {
    "duration": 26,
    "start_time": "2024-06-24T21:09:56.546Z"
   },
   {
    "duration": 10,
    "start_time": "2024-06-24T21:10:59.482Z"
   },
   {
    "duration": 1778,
    "start_time": "2024-06-24T21:13:36.446Z"
   },
   {
    "duration": 1539,
    "start_time": "2024-06-24T21:14:11.820Z"
   },
   {
    "duration": 18,
    "start_time": "2024-06-24T21:17:03.551Z"
   },
   {
    "duration": 9,
    "start_time": "2024-06-24T21:18:19.203Z"
   },
   {
    "duration": 1079,
    "start_time": "2024-06-24T21:18:57.485Z"
   },
   {
    "duration": 8,
    "start_time": "2024-06-24T21:27:51.061Z"
   },
   {
    "duration": 28,
    "start_time": "2024-06-24T21:28:22.384Z"
   },
   {
    "duration": 34,
    "start_time": "2024-06-24T21:29:20.858Z"
   },
   {
    "duration": 31,
    "start_time": "2024-06-24T21:29:49.200Z"
   },
   {
    "duration": 8,
    "start_time": "2024-06-24T21:33:08.231Z"
   },
   {
    "duration": 357,
    "start_time": "2024-06-24T21:33:23.009Z"
   },
   {
    "duration": 1039,
    "start_time": "2024-06-24T21:37:36.687Z"
   },
   {
    "duration": 9,
    "start_time": "2024-06-24T21:41:39.466Z"
   },
   {
    "duration": 17,
    "start_time": "2024-06-24T21:43:00.621Z"
   },
   {
    "duration": 8,
    "start_time": "2024-06-24T21:43:14.091Z"
   },
   {
    "duration": 31,
    "start_time": "2024-06-24T21:44:04.878Z"
   },
   {
    "duration": 114,
    "start_time": "2024-06-24T21:44:40.509Z"
   },
   {
    "duration": 319,
    "start_time": "2024-06-24T21:44:54.541Z"
   },
   {
    "duration": 7,
    "start_time": "2024-06-24T21:45:42.087Z"
   },
   {
    "duration": 774,
    "start_time": "2024-06-24T21:55:30.986Z"
   },
   {
    "duration": 253,
    "start_time": "2024-06-24T22:02:17.744Z"
   },
   {
    "duration": 569,
    "start_time": "2024-06-24T22:40:24.664Z"
   },
   {
    "duration": 620,
    "start_time": "2024-06-24T22:42:13.926Z"
   },
   {
    "duration": 660,
    "start_time": "2024-06-24T22:47:28.896Z"
   },
   {
    "duration": 669,
    "start_time": "2024-06-24T23:08:57.585Z"
   },
   {
    "duration": 137,
    "start_time": "2024-06-24T23:12:10.517Z"
   },
   {
    "duration": 158,
    "start_time": "2024-06-24T23:13:02.917Z"
   },
   {
    "duration": 31,
    "start_time": "2024-06-24T23:13:55.697Z"
   },
   {
    "duration": 11,
    "start_time": "2024-06-24T23:14:21.504Z"
   },
   {
    "duration": 27,
    "start_time": "2024-06-24T23:24:59.512Z"
   },
   {
    "duration": 8,
    "start_time": "2024-06-24T23:25:09.381Z"
   },
   {
    "duration": 7,
    "start_time": "2024-06-24T23:25:20.912Z"
   },
   {
    "duration": 27,
    "start_time": "2024-06-24T23:27:44.665Z"
   },
   {
    "duration": 368,
    "start_time": "2024-06-24T23:28:01.524Z"
   },
   {
    "duration": 24,
    "start_time": "2024-06-24T23:39:29.696Z"
   },
   {
    "duration": 11411,
    "start_time": "2024-06-24T23:40:12.785Z"
   },
   {
    "duration": 11750,
    "start_time": "2024-06-24T23:41:09.409Z"
   },
   {
    "duration": 10620,
    "start_time": "2024-06-24T23:41:58.624Z"
   },
   {
    "duration": 11127,
    "start_time": "2024-06-24T23:42:15.540Z"
   },
   {
    "duration": 11,
    "start_time": "2024-06-24T23:44:11.331Z"
   },
   {
    "duration": 10188,
    "start_time": "2024-06-24T23:44:25.416Z"
   },
   {
    "duration": 10066,
    "start_time": "2024-06-24T23:44:56.641Z"
   },
   {
    "duration": 319,
    "start_time": "2024-06-24T23:45:22.444Z"
   },
   {
    "duration": 314,
    "start_time": "2024-06-24T23:45:36.841Z"
   },
   {
    "duration": 4885,
    "start_time": "2024-06-25T01:59:01.074Z"
   },
   {
    "duration": 82,
    "start_time": "2024-06-25T01:59:10.396Z"
   },
   {
    "duration": 16,
    "start_time": "2024-06-25T01:59:15.184Z"
   },
   {
    "duration": 7,
    "start_time": "2024-06-25T01:59:22.663Z"
   },
   {
    "duration": 8,
    "start_time": "2024-06-25T01:59:26.836Z"
   },
   {
    "duration": 17,
    "start_time": "2024-06-25T01:59:28.979Z"
   },
   {
    "duration": 8,
    "start_time": "2024-06-25T01:59:30.755Z"
   },
   {
    "duration": 16,
    "start_time": "2024-06-25T01:59:33.818Z"
   },
   {
    "duration": 13,
    "start_time": "2024-06-25T01:59:38.403Z"
   },
   {
    "duration": 13,
    "start_time": "2024-06-25T01:59:44.957Z"
   },
   {
    "duration": 14,
    "start_time": "2024-06-25T01:59:52.008Z"
   },
   {
    "duration": 12,
    "start_time": "2024-06-25T01:59:57.155Z"
   },
   {
    "duration": 9,
    "start_time": "2024-06-25T02:00:25.833Z"
   },
   {
    "duration": 9,
    "start_time": "2024-06-25T02:00:33.594Z"
   },
   {
    "duration": 21,
    "start_time": "2024-06-25T02:00:39.028Z"
   },
   {
    "duration": 13,
    "start_time": "2024-06-25T02:01:12.076Z"
   },
   {
    "duration": 454,
    "start_time": "2024-06-25T02:05:20.248Z"
   },
   {
    "duration": 15,
    "start_time": "2024-06-25T02:05:49.386Z"
   },
   {
    "duration": 16,
    "start_time": "2024-06-25T02:06:12.449Z"
   },
   {
    "duration": 228,
    "start_time": "2024-06-25T02:07:30.659Z"
   },
   {
    "duration": 8,
    "start_time": "2024-06-25T02:10:47.216Z"
   },
   {
    "duration": 284,
    "start_time": "2024-06-25T02:10:52.373Z"
   },
   {
    "duration": 177,
    "start_time": "2024-06-25T02:11:36.487Z"
   },
   {
    "duration": 216,
    "start_time": "2024-06-25T02:11:48.603Z"
   },
   {
    "duration": 408,
    "start_time": "2024-06-25T02:12:07.144Z"
   },
   {
    "duration": 11,
    "start_time": "2024-06-25T02:13:11.718Z"
   },
   {
    "duration": 862,
    "start_time": "2024-06-25T02:14:05.665Z"
   },
   {
    "duration": 5079,
    "start_time": "2024-06-25T17:01:28.531Z"
   },
   {
    "duration": 73,
    "start_time": "2024-06-25T17:01:33.613Z"
   },
   {
    "duration": 15,
    "start_time": "2024-06-25T17:01:39.316Z"
   },
   {
    "duration": 7,
    "start_time": "2024-06-25T17:01:44.929Z"
   },
   {
    "duration": 7,
    "start_time": "2024-06-25T17:01:49.279Z"
   },
   {
    "duration": 20,
    "start_time": "2024-06-25T17:02:00.007Z"
   },
   {
    "duration": 8,
    "start_time": "2024-06-25T17:02:01.928Z"
   },
   {
    "duration": 19,
    "start_time": "2024-06-25T17:02:06.763Z"
   },
   {
    "duration": 12,
    "start_time": "2024-06-25T17:02:15.559Z"
   },
   {
    "duration": 13,
    "start_time": "2024-06-25T17:02:17.795Z"
   },
   {
    "duration": 12,
    "start_time": "2024-06-25T17:02:19.806Z"
   },
   {
    "duration": 9,
    "start_time": "2024-06-25T17:02:24.050Z"
   },
   {
    "duration": 9,
    "start_time": "2024-06-25T17:02:26.272Z"
   },
   {
    "duration": 21,
    "start_time": "2024-06-25T17:04:21.261Z"
   },
   {
    "duration": 15,
    "start_time": "2024-06-25T17:04:28.667Z"
   },
   {
    "duration": 432,
    "start_time": "2024-06-25T17:04:31.779Z"
   },
   {
    "duration": 8,
    "start_time": "2024-06-25T17:04:35.804Z"
   },
   {
    "duration": 1224,
    "start_time": "2024-06-25T17:04:47.132Z"
   },
   {
    "duration": 81,
    "start_time": "2024-06-25T17:05:21.720Z"
   },
   {
    "duration": 81,
    "start_time": "2024-06-25T17:06:10.546Z"
   },
   {
    "duration": 600,
    "start_time": "2024-06-25T17:08:35.447Z"
   },
   {
    "duration": 13,
    "start_time": "2024-06-25T17:09:33.661Z"
   },
   {
    "duration": 18,
    "start_time": "2024-06-25T17:10:12.793Z"
   },
   {
    "duration": 30,
    "start_time": "2024-06-25T17:18:18.606Z"
   },
   {
    "duration": 13,
    "start_time": "2024-06-25T17:18:42.022Z"
   },
   {
    "duration": 7,
    "start_time": "2024-06-25T17:22:13.253Z"
   },
   {
    "duration": 7,
    "start_time": "2024-06-25T17:22:38.685Z"
   },
   {
    "duration": 20,
    "start_time": "2024-06-25T17:24:06.322Z"
   },
   {
    "duration": 8,
    "start_time": "2024-06-25T17:24:35.261Z"
   },
   {
    "duration": 9,
    "start_time": "2024-06-25T17:24:42.711Z"
   },
   {
    "duration": 4903,
    "start_time": "2024-06-27T16:27:36.655Z"
   },
   {
    "duration": 72,
    "start_time": "2024-06-27T16:27:44.553Z"
   },
   {
    "duration": 16,
    "start_time": "2024-06-27T16:27:58.272Z"
   },
   {
    "duration": 7,
    "start_time": "2024-06-27T16:28:04.379Z"
   },
   {
    "duration": 8,
    "start_time": "2024-06-27T16:28:07.801Z"
   },
   {
    "duration": 18,
    "start_time": "2024-06-27T16:28:11.617Z"
   },
   {
    "duration": 16,
    "start_time": "2024-06-27T16:28:16.073Z"
   },
   {
    "duration": 12,
    "start_time": "2024-06-27T16:28:19.356Z"
   },
   {
    "duration": 24,
    "start_time": "2024-06-27T16:28:22.496Z"
   },
   {
    "duration": 12,
    "start_time": "2024-06-27T16:28:24.674Z"
   },
   {
    "duration": 9,
    "start_time": "2024-06-27T16:28:29.807Z"
   },
   {
    "duration": 9,
    "start_time": "2024-06-27T16:28:32.329Z"
   },
   {
    "duration": 15,
    "start_time": "2024-06-27T16:28:45.566Z"
   },
   {
    "duration": 16,
    "start_time": "2024-06-27T16:28:49.109Z"
   },
   {
    "duration": 445,
    "start_time": "2024-06-27T16:28:53.471Z"
   },
   {
    "duration": 7,
    "start_time": "2024-06-27T16:29:01.324Z"
   },
   {
    "duration": 799,
    "start_time": "2024-06-27T16:29:03.300Z"
   },
   {
    "duration": 7,
    "start_time": "2024-06-27T16:30:30.426Z"
   },
   {
    "duration": 6,
    "start_time": "2024-06-27T16:32:45.242Z"
   },
   {
    "duration": 9,
    "start_time": "2024-06-27T16:33:01.236Z"
   },
   {
    "duration": 7,
    "start_time": "2024-06-27T16:33:27.260Z"
   },
   {
    "duration": 6,
    "start_time": "2024-06-27T16:33:38.527Z"
   },
   {
    "duration": 9,
    "start_time": "2024-06-27T16:40:08.980Z"
   },
   {
    "duration": 8,
    "start_time": "2024-06-27T16:43:13.310Z"
   },
   {
    "duration": 19,
    "start_time": "2024-06-27T16:43:18.749Z"
   },
   {
    "duration": 13,
    "start_time": "2024-06-27T16:43:22.561Z"
   },
   {
    "duration": 12,
    "start_time": "2024-06-27T16:43:25.678Z"
   },
   {
    "duration": 13,
    "start_time": "2024-06-27T16:43:28.454Z"
   },
   {
    "duration": 8,
    "start_time": "2024-06-27T16:43:32.441Z"
   },
   {
    "duration": 9,
    "start_time": "2024-06-27T16:43:35.952Z"
   },
   {
    "duration": 15,
    "start_time": "2024-06-27T16:43:40.323Z"
   },
   {
    "duration": 13,
    "start_time": "2024-06-27T16:43:43.360Z"
   },
   {
    "duration": 12,
    "start_time": "2024-06-27T16:49:43.131Z"
   },
   {
    "duration": 30,
    "start_time": "2024-06-27T16:52:17.734Z"
   },
   {
    "duration": 7,
    "start_time": "2024-06-27T16:52:33.214Z"
   },
   {
    "duration": 697,
    "start_time": "2024-06-27T16:58:37.245Z"
   },
   {
    "duration": 953,
    "start_time": "2024-06-27T16:59:16.626Z"
   },
   {
    "duration": 529,
    "start_time": "2024-06-27T16:59:27.209Z"
   },
   {
    "duration": 585,
    "start_time": "2024-06-27T17:07:42.712Z"
   },
   {
    "duration": 4,
    "start_time": "2024-06-27T17:12:12.025Z"
   },
   {
    "duration": 690,
    "start_time": "2024-06-27T17:13:34.395Z"
   },
   {
    "duration": 483,
    "start_time": "2024-06-27T17:14:15.538Z"
   },
   {
    "duration": 524,
    "start_time": "2024-06-27T17:14:29.380Z"
   },
   {
    "duration": 401,
    "start_time": "2024-06-27T17:28:49.563Z"
   },
   {
    "duration": 12,
    "start_time": "2024-06-27T17:29:54.787Z"
   },
   {
    "duration": 494,
    "start_time": "2024-06-27T17:30:04.808Z"
   },
   {
    "duration": 8,
    "start_time": "2024-06-27T17:32:08.944Z"
   },
   {
    "duration": 8,
    "start_time": "2024-06-27T17:34:42.339Z"
   },
   {
    "duration": 1325,
    "start_time": "2024-06-27T18:20:31.671Z"
   },
   {
    "duration": 6,
    "start_time": "2024-06-27T18:26:41.127Z"
   },
   {
    "duration": 24,
    "start_time": "2024-06-27T18:27:38.803Z"
   },
   {
    "duration": 25,
    "start_time": "2024-06-27T18:28:52.396Z"
   },
   {
    "duration": 4,
    "start_time": "2024-06-27T18:29:49.707Z"
   },
   {
    "duration": 5,
    "start_time": "2024-06-27T18:31:22.183Z"
   },
   {
    "duration": 7,
    "start_time": "2024-06-27T18:31:26.984Z"
   },
   {
    "duration": 1251,
    "start_time": "2024-06-27T18:32:06.449Z"
   },
   {
    "duration": 54,
    "start_time": "2024-06-27T18:32:10.315Z"
   },
   {
    "duration": 18,
    "start_time": "2024-06-27T18:32:14.247Z"
   },
   {
    "duration": 6,
    "start_time": "2024-06-27T18:32:18.955Z"
   },
   {
    "duration": 8,
    "start_time": "2024-06-27T18:32:22.731Z"
   },
   {
    "duration": 21,
    "start_time": "2024-06-27T18:32:25.146Z"
   },
   {
    "duration": 18,
    "start_time": "2024-06-27T18:32:29.804Z"
   },
   {
    "duration": 7,
    "start_time": "2024-06-27T18:32:36.768Z"
   },
   {
    "duration": 5,
    "start_time": "2024-06-27T18:32:40.699Z"
   },
   {
    "duration": 477,
    "start_time": "2024-06-27T18:33:36.900Z"
   },
   {
    "duration": 7,
    "start_time": "2024-06-27T18:34:41.146Z"
   },
   {
    "duration": 1169,
    "start_time": "2024-06-27T18:35:59.881Z"
   },
   {
    "duration": 116,
    "start_time": "2024-06-27T18:40:09.840Z"
   },
   {
    "duration": 762,
    "start_time": "2024-06-27T18:46:17.075Z"
   },
   {
    "duration": 8,
    "start_time": "2024-06-27T18:58:54.671Z"
   },
   {
    "duration": 16,
    "start_time": "2024-06-27T18:59:01.218Z"
   },
   {
    "duration": 15,
    "start_time": "2024-06-27T19:01:46.484Z"
   },
   {
    "duration": 14,
    "start_time": "2024-06-27T19:10:32.566Z"
   },
   {
    "duration": 7,
    "start_time": "2024-06-27T19:15:39.317Z"
   },
   {
    "duration": 15,
    "start_time": "2024-06-27T19:16:41.849Z"
   },
   {
    "duration": 12,
    "start_time": "2024-06-27T19:19:33.841Z"
   },
   {
    "duration": 9,
    "start_time": "2024-06-27T19:19:49.795Z"
   },
   {
    "duration": 7,
    "start_time": "2024-06-27T19:20:36.603Z"
   },
   {
    "duration": 10,
    "start_time": "2024-06-27T19:23:51.928Z"
   },
   {
    "duration": 8,
    "start_time": "2024-06-27T19:24:02.063Z"
   },
   {
    "duration": 17,
    "start_time": "2024-06-27T19:24:51.592Z"
   },
   {
    "duration": 16,
    "start_time": "2024-06-27T19:25:56.549Z"
   },
   {
    "duration": 15,
    "start_time": "2024-06-27T19:26:05.902Z"
   },
   {
    "duration": 7,
    "start_time": "2024-06-27T19:26:11.509Z"
   },
   {
    "duration": 14,
    "start_time": "2024-06-27T19:27:41.465Z"
   },
   {
    "duration": 13,
    "start_time": "2024-06-27T19:32:37.818Z"
   },
   {
    "duration": 7,
    "start_time": "2024-06-27T19:32:41.612Z"
   },
   {
    "duration": 11,
    "start_time": "2024-06-27T19:33:37.977Z"
   },
   {
    "duration": 14,
    "start_time": "2024-06-27T19:33:42.373Z"
   },
   {
    "duration": 4851,
    "start_time": "2024-06-27T21:35:40.593Z"
   },
   {
    "duration": 72,
    "start_time": "2024-06-27T21:35:56.274Z"
   },
   {
    "duration": 14,
    "start_time": "2024-06-27T21:36:07.699Z"
   },
   {
    "duration": 7,
    "start_time": "2024-06-27T21:36:25.195Z"
   },
   {
    "duration": 7,
    "start_time": "2024-06-27T21:38:08.914Z"
   },
   {
    "duration": 18,
    "start_time": "2024-06-27T21:38:18.814Z"
   },
   {
    "duration": 18,
    "start_time": "2024-06-27T21:38:18.835Z"
   },
   {
    "duration": 7,
    "start_time": "2024-06-27T21:38:33.472Z"
   },
   {
    "duration": 8,
    "start_time": "2024-06-27T21:38:35.749Z"
   },
   {
    "duration": 13,
    "start_time": "2024-06-27T21:38:44.642Z"
   },
   {
    "duration": 8,
    "start_time": "2024-06-27T21:38:47.567Z"
   },
   {
    "duration": 17,
    "start_time": "2024-06-27T21:38:49.786Z"
   },
   {
    "duration": 14,
    "start_time": "2024-06-27T21:39:37.250Z"
   },
   {
    "duration": 7,
    "start_time": "2024-06-27T21:44:07.763Z"
   },
   {
    "duration": 410,
    "start_time": "2024-06-27T21:45:11.317Z"
   },
   {
    "duration": 8,
    "start_time": "2024-06-27T21:45:22.155Z"
   },
   {
    "duration": 7,
    "start_time": "2024-06-27T21:45:41.178Z"
   },
   {
    "duration": 6,
    "start_time": "2024-06-27T21:46:54.701Z"
   },
   {
    "duration": 11,
    "start_time": "2024-06-27T21:47:55.658Z"
   },
   {
    "duration": 12,
    "start_time": "2024-06-27T21:48:10.996Z"
   },
   {
    "duration": 8,
    "start_time": "2024-06-27T21:49:40.701Z"
   },
   {
    "duration": 9,
    "start_time": "2024-06-27T21:49:41.913Z"
   },
   {
    "duration": 18,
    "start_time": "2024-06-27T21:49:42.658Z"
   },
   {
    "duration": 15,
    "start_time": "2024-06-27T21:49:43.214Z"
   },
   {
    "duration": 510,
    "start_time": "2024-06-27T21:49:44.404Z"
   },
   {
    "duration": 8,
    "start_time": "2024-06-27T21:49:47.877Z"
   },
   {
    "duration": 9,
    "start_time": "2024-06-27T21:50:07.725Z"
   },
   {
    "duration": 411,
    "start_time": "2024-06-27T21:50:12.590Z"
   },
   {
    "duration": 10,
    "start_time": "2024-06-27T21:50:24.078Z"
   },
   {
    "duration": 8,
    "start_time": "2024-06-27T21:54:39.211Z"
   },
   {
    "duration": 10,
    "start_time": "2024-06-27T21:58:07.843Z"
   },
   {
    "duration": 21,
    "start_time": "2024-06-27T21:58:22.600Z"
   },
   {
    "duration": 8,
    "start_time": "2024-06-27T22:00:13.076Z"
   },
   {
    "duration": 10,
    "start_time": "2024-06-27T22:00:26.876Z"
   },
   {
    "duration": 10,
    "start_time": "2024-06-27T22:02:53.283Z"
   },
   {
    "duration": 11,
    "start_time": "2024-06-27T22:08:03.030Z"
   },
   {
    "duration": 14,
    "start_time": "2024-06-27T22:09:25.755Z"
   },
   {
    "duration": 10,
    "start_time": "2024-06-27T22:10:20.915Z"
   },
   {
    "duration": 10,
    "start_time": "2024-06-27T22:11:10.661Z"
   },
   {
    "duration": 287,
    "start_time": "2024-06-27T22:14:31.058Z"
   },
   {
    "duration": 237,
    "start_time": "2024-06-27T22:15:20.487Z"
   },
   {
    "duration": 326,
    "start_time": "2024-06-27T22:21:37.029Z"
   },
   {
    "duration": 245,
    "start_time": "2024-06-27T22:28:49.407Z"
   },
   {
    "duration": 282,
    "start_time": "2024-06-27T22:29:30.891Z"
   },
   {
    "duration": 273,
    "start_time": "2024-06-27T22:29:57.824Z"
   },
   {
    "duration": 29,
    "start_time": "2024-06-27T22:46:58.379Z"
   },
   {
    "duration": 7,
    "start_time": "2024-06-27T22:47:15.098Z"
   },
   {
    "duration": 7,
    "start_time": "2024-06-27T22:49:02.572Z"
   },
   {
    "duration": 3,
    "start_time": "2024-06-27T22:52:36.529Z"
   },
   {
    "duration": 17,
    "start_time": "2024-06-27T22:52:54.302Z"
   },
   {
    "duration": 9,
    "start_time": "2024-06-27T22:54:18.847Z"
   },
   {
    "duration": 10,
    "start_time": "2024-06-28T00:08:09.538Z"
   },
   {
    "duration": 9,
    "start_time": "2024-06-28T00:08:59.181Z"
   },
   {
    "duration": 10,
    "start_time": "2024-06-28T00:11:19.046Z"
   },
   {
    "duration": 5225,
    "start_time": "2024-06-28T17:16:12.598Z"
   },
   {
    "duration": 74,
    "start_time": "2024-06-28T17:16:17.828Z"
   },
   {
    "duration": 21,
    "start_time": "2024-06-28T17:16:25.222Z"
   },
   {
    "duration": 8,
    "start_time": "2024-06-28T17:16:29.079Z"
   },
   {
    "duration": 9,
    "start_time": "2024-06-28T17:16:31.907Z"
   },
   {
    "duration": 24,
    "start_time": "2024-06-28T17:16:33.195Z"
   },
   {
    "duration": 18,
    "start_time": "2024-06-28T17:16:35.775Z"
   },
   {
    "duration": 6,
    "start_time": "2024-06-28T17:16:39.836Z"
   },
   {
    "duration": 7,
    "start_time": "2024-06-28T17:16:42.326Z"
   },
   {
    "duration": 9,
    "start_time": "2024-06-28T17:16:44.483Z"
   },
   {
    "duration": 23,
    "start_time": "2024-06-28T17:16:47.367Z"
   },
   {
    "duration": 1751,
    "start_time": "2024-06-28T17:16:51.714Z"
   },
   {
    "duration": 13,
    "start_time": "2024-06-28T17:17:32.168Z"
   },
   {
    "duration": 7,
    "start_time": "2024-06-28T17:17:34.838Z"
   },
   {
    "duration": 13,
    "start_time": "2024-06-28T17:17:43.705Z"
   },
   {
    "duration": 8,
    "start_time": "2024-06-28T17:17:56.927Z"
   },
   {
    "duration": 9,
    "start_time": "2024-06-28T17:18:06.225Z"
   },
   {
    "duration": 23,
    "start_time": "2024-06-28T17:18:08.860Z"
   },
   {
    "duration": 18,
    "start_time": "2024-06-28T17:18:12.100Z"
   },
   {
    "duration": 449,
    "start_time": "2024-06-28T17:18:14.626Z"
   },
   {
    "duration": 8,
    "start_time": "2024-06-28T17:18:19.455Z"
   },
   {
    "duration": 9,
    "start_time": "2024-06-28T17:18:22.628Z"
   },
   {
    "duration": 449,
    "start_time": "2024-06-28T17:18:26.391Z"
   },
   {
    "duration": 10,
    "start_time": "2024-06-28T17:18:30.744Z"
   },
   {
    "duration": 12,
    "start_time": "2024-06-28T17:18:46.248Z"
   },
   {
    "duration": 256,
    "start_time": "2024-06-28T17:18:48.881Z"
   },
   {
    "duration": 13,
    "start_time": "2024-06-28T17:18:52.355Z"
   },
   {
    "duration": 245,
    "start_time": "2024-06-28T17:18:55.197Z"
   },
   {
    "duration": 12,
    "start_time": "2024-06-28T17:18:58.649Z"
   },
   {
    "duration": 260,
    "start_time": "2024-06-28T17:19:00.992Z"
   },
   {
    "duration": 13,
    "start_time": "2024-06-28T17:19:12.883Z"
   },
   {
    "duration": 270,
    "start_time": "2024-06-28T17:19:17.091Z"
   },
   {
    "duration": 11,
    "start_time": "2024-06-28T17:19:23.659Z"
   },
   {
    "duration": 239,
    "start_time": "2024-06-28T17:19:25.003Z"
   },
   {
    "duration": 11,
    "start_time": "2024-06-28T17:19:27.175Z"
   },
   {
    "duration": 298,
    "start_time": "2024-06-28T17:19:30.046Z"
   },
   {
    "duration": 11,
    "start_time": "2024-06-28T17:19:33.426Z"
   },
   {
    "duration": 10,
    "start_time": "2024-06-28T17:19:34.554Z"
   },
   {
    "duration": 797,
    "start_time": "2024-06-28T17:21:49.217Z"
   },
   {
    "duration": 157,
    "start_time": "2024-06-28T17:22:08.478Z"
   },
   {
    "duration": 4,
    "start_time": "2024-06-28T17:32:29.357Z"
   },
   {
    "duration": 83,
    "start_time": "2024-06-28T17:47:45.440Z"
   },
   {
    "duration": 44,
    "start_time": "2024-06-28T17:49:45.079Z"
   },
   {
    "duration": 47,
    "start_time": "2024-06-28T17:49:51.687Z"
   },
   {
    "duration": 14,
    "start_time": "2024-06-28T17:50:47.788Z"
   },
   {
    "duration": 13,
    "start_time": "2024-06-28T17:51:55.507Z"
   },
   {
    "duration": 12,
    "start_time": "2024-06-28T17:52:16.535Z"
   },
   {
    "duration": 24,
    "start_time": "2024-06-28T18:01:21.973Z"
   },
   {
    "duration": 26,
    "start_time": "2024-06-28T18:01:31.814Z"
   },
   {
    "duration": 6,
    "start_time": "2024-06-28T18:01:42.285Z"
   },
   {
    "duration": 5,
    "start_time": "2024-06-28T18:06:34.301Z"
   },
   {
    "duration": 5,
    "start_time": "2024-06-28T18:06:41.512Z"
   },
   {
    "duration": 173,
    "start_time": "2024-06-28T18:07:04.145Z"
   },
   {
    "duration": 33,
    "start_time": "2024-06-28T18:07:15.674Z"
   },
   {
    "duration": 5,
    "start_time": "2024-06-28T18:07:20.418Z"
   },
   {
    "duration": 6,
    "start_time": "2024-06-28T18:09:08.600Z"
   },
   {
    "duration": 9,
    "start_time": "2024-06-28T18:09:37.491Z"
   },
   {
    "duration": 182,
    "start_time": "2024-06-28T18:13:25.571Z"
   },
   {
    "duration": 94,
    "start_time": "2024-06-28T18:14:57.404Z"
   },
   {
    "duration": 50,
    "start_time": "2024-06-28T18:15:05.414Z"
   },
   {
    "duration": 225,
    "start_time": "2024-06-28T18:15:16.605Z"
   },
   {
    "duration": 322,
    "start_time": "2024-06-28T18:15:33.933Z"
   },
   {
    "duration": 193,
    "start_time": "2024-06-28T18:16:04.641Z"
   },
   {
    "duration": 207,
    "start_time": "2024-06-28T18:17:05.766Z"
   },
   {
    "duration": 210,
    "start_time": "2024-06-28T18:19:00.489Z"
   },
   {
    "duration": 10,
    "start_time": "2024-06-28T18:28:43.702Z"
   },
   {
    "duration": 27,
    "start_time": "2024-06-28T18:29:01.506Z"
   },
   {
    "duration": 11,
    "start_time": "2024-06-28T18:29:18.506Z"
   },
   {
    "duration": 190,
    "start_time": "2024-06-28T18:30:01.488Z"
   },
   {
    "duration": 9,
    "start_time": "2024-06-28T18:30:17.293Z"
   },
   {
    "duration": 208,
    "start_time": "2024-06-28T18:37:01.608Z"
   },
   {
    "duration": 400,
    "start_time": "2024-06-28T18:39:04.810Z"
   },
   {
    "duration": 396,
    "start_time": "2024-06-28T18:39:52.081Z"
   },
   {
    "duration": 24,
    "start_time": "2024-06-28T18:42:19.312Z"
   },
   {
    "duration": 10,
    "start_time": "2024-06-28T18:42:31.092Z"
   },
   {
    "duration": 11,
    "start_time": "2024-06-28T18:42:52.275Z"
   },
   {
    "duration": 275,
    "start_time": "2024-06-28T18:44:14.860Z"
   },
   {
    "duration": 319,
    "start_time": "2024-06-28T18:44:42.147Z"
   },
   {
    "duration": 275,
    "start_time": "2024-06-28T18:45:24.968Z"
   },
   {
    "duration": 234,
    "start_time": "2024-06-28T18:48:09.836Z"
   },
   {
    "duration": 10,
    "start_time": "2024-06-28T18:48:38.020Z"
   },
   {
    "duration": 428,
    "start_time": "2024-06-28T18:59:49.775Z"
   },
   {
    "duration": 8,
    "start_time": "2024-06-28T19:00:57.427Z"
   },
   {
    "duration": 277,
    "start_time": "2024-06-28T19:00:59.582Z"
   },
   {
    "duration": 10,
    "start_time": "2024-06-28T19:01:22.791Z"
   },
   {
    "duration": 29,
    "start_time": "2024-06-28T19:05:28.634Z"
   },
   {
    "duration": 9,
    "start_time": "2024-06-28T19:05:46.086Z"
   },
   {
    "duration": 241,
    "start_time": "2024-06-28T19:05:48.508Z"
   },
   {
    "duration": 8,
    "start_time": "2024-06-28T19:07:27.078Z"
   },
   {
    "duration": 408,
    "start_time": "2024-06-28T19:07:43.139Z"
   },
   {
    "duration": 386,
    "start_time": "2024-06-28T19:08:27.659Z"
   },
   {
    "duration": 9,
    "start_time": "2024-06-28T19:09:26.978Z"
   },
   {
    "duration": 260,
    "start_time": "2024-06-28T19:10:32.799Z"
   },
   {
    "duration": 9,
    "start_time": "2024-06-28T19:13:11.026Z"
   },
   {
    "duration": 9,
    "start_time": "2024-06-28T19:14:47.182Z"
   },
   {
    "duration": 10,
    "start_time": "2024-06-28T19:23:29.381Z"
   },
   {
    "duration": 9,
    "start_time": "2024-06-28T19:25:43.351Z"
   },
   {
    "duration": 604,
    "start_time": "2024-06-28T19:30:33.091Z"
   },
   {
    "duration": 10,
    "start_time": "2024-06-28T19:31:15.852Z"
   },
   {
    "duration": 284,
    "start_time": "2024-06-28T19:32:02.715Z"
   },
   {
    "duration": 10,
    "start_time": "2024-06-28T19:32:52.983Z"
   },
   {
    "duration": 557,
    "start_time": "2024-06-28T19:37:44.877Z"
   },
   {
    "duration": 28,
    "start_time": "2024-06-28T19:37:56.130Z"
   },
   {
    "duration": 9,
    "start_time": "2024-06-28T19:38:05.050Z"
   },
   {
    "duration": 276,
    "start_time": "2024-06-28T19:41:52.959Z"
   },
   {
    "duration": 1367,
    "start_time": "2024-06-28T19:59:30.602Z"
   },
   {
    "duration": 57,
    "start_time": "2024-06-28T19:59:33.933Z"
   },
   {
    "duration": 15,
    "start_time": "2024-06-28T19:59:44.243Z"
   },
   {
    "duration": 7,
    "start_time": "2024-06-28T19:59:57.034Z"
   },
   {
    "duration": 7,
    "start_time": "2024-06-28T20:00:00.769Z"
   },
   {
    "duration": 19,
    "start_time": "2024-06-28T20:00:05.652Z"
   },
   {
    "duration": 7,
    "start_time": "2024-06-28T20:00:26.744Z"
   },
   {
    "duration": 8,
    "start_time": "2024-06-28T20:00:35.315Z"
   },
   {
    "duration": 9,
    "start_time": "2024-06-28T20:01:33.938Z"
   },
   {
    "duration": 18,
    "start_time": "2024-06-28T20:02:06.635Z"
   },
   {
    "duration": 14,
    "start_time": "2024-06-28T20:02:12.137Z"
   },
   {
    "duration": 7,
    "start_time": "2024-06-28T20:02:17.714Z"
   },
   {
    "duration": 13,
    "start_time": "2024-06-28T20:02:26.625Z"
   },
   {
    "duration": 7,
    "start_time": "2024-06-28T20:10:54.387Z"
   },
   {
    "duration": 5,
    "start_time": "2024-06-28T20:10:57.071Z"
   },
   {
    "duration": 6,
    "start_time": "2024-06-28T20:10:58.899Z"
   },
   {
    "duration": 13,
    "start_time": "2024-06-28T20:10:59.702Z"
   },
   {
    "duration": 15,
    "start_time": "2024-06-28T20:11:01.515Z"
   },
   {
    "duration": 11,
    "start_time": "2024-06-28T20:11:03.902Z"
   },
   {
    "duration": 6,
    "start_time": "2024-06-28T20:11:05.563Z"
   },
   {
    "duration": 13,
    "start_time": "2024-06-28T20:11:06.335Z"
   },
   {
    "duration": 9,
    "start_time": "2024-06-28T20:11:11.165Z"
   },
   {
    "duration": 9,
    "start_time": "2024-06-28T20:11:46.691Z"
   },
   {
    "duration": 20,
    "start_time": "2024-06-28T20:11:49.950Z"
   },
   {
    "duration": 16,
    "start_time": "2024-06-28T20:13:03.985Z"
   },
   {
    "duration": 496,
    "start_time": "2024-06-28T20:13:46.529Z"
   },
   {
    "duration": 7,
    "start_time": "2024-06-28T20:14:06.985Z"
   },
   {
    "duration": 14,
    "start_time": "2024-06-28T20:18:25.367Z"
   },
   {
    "duration": 8,
    "start_time": "2024-06-28T20:18:35.839Z"
   },
   {
    "duration": 533,
    "start_time": "2024-06-28T20:19:49.404Z"
   },
   {
    "duration": 10,
    "start_time": "2024-06-28T20:20:11.762Z"
   },
   {
    "duration": 10,
    "start_time": "2024-06-28T20:28:34.413Z"
   },
   {
    "duration": 11,
    "start_time": "2024-06-28T20:33:06.006Z"
   },
   {
    "duration": 15,
    "start_time": "2024-06-28T20:34:31.038Z"
   },
   {
    "duration": 4917,
    "start_time": "2024-06-28T22:38:40.491Z"
   },
   {
    "duration": 72,
    "start_time": "2024-06-28T22:38:45.411Z"
   },
   {
    "duration": 15,
    "start_time": "2024-06-28T22:38:50.519Z"
   },
   {
    "duration": 6,
    "start_time": "2024-06-28T22:38:55.776Z"
   },
   {
    "duration": 6,
    "start_time": "2024-06-28T22:38:58.408Z"
   },
   {
    "duration": 18,
    "start_time": "2024-06-28T22:39:01.609Z"
   },
   {
    "duration": 16,
    "start_time": "2024-06-28T22:39:03.553Z"
   },
   {
    "duration": 5,
    "start_time": "2024-06-28T22:39:07.118Z"
   },
   {
    "duration": 6,
    "start_time": "2024-06-28T22:39:10.721Z"
   },
   {
    "duration": 10,
    "start_time": "2024-06-28T22:39:12.245Z"
   },
   {
    "duration": 20,
    "start_time": "2024-06-28T22:39:16.233Z"
   },
   {
    "duration": 11,
    "start_time": "2024-06-28T22:39:18.983Z"
   },
   {
    "duration": 6,
    "start_time": "2024-06-28T22:39:21.234Z"
   },
   {
    "duration": 14,
    "start_time": "2024-06-28T22:39:22.301Z"
   },
   {
    "duration": 8,
    "start_time": "2024-06-28T22:41:11.562Z"
   },
   {
    "duration": 10,
    "start_time": "2024-06-28T22:41:13.032Z"
   },
   {
    "duration": 18,
    "start_time": "2024-06-28T22:41:24.106Z"
   },
   {
    "duration": 15,
    "start_time": "2024-06-28T22:41:34.453Z"
   },
   {
    "duration": 420,
    "start_time": "2024-06-28T22:41:35.383Z"
   },
   {
    "duration": 8,
    "start_time": "2024-06-28T22:41:51.660Z"
   },
   {
    "duration": 8,
    "start_time": "2024-06-28T22:41:54.313Z"
   },
   {
    "duration": 419,
    "start_time": "2024-06-28T22:41:59.720Z"
   },
   {
    "duration": 9,
    "start_time": "2024-06-28T22:42:10.630Z"
   },
   {
    "duration": 12,
    "start_time": "2024-06-28T22:42:16.366Z"
   },
   {
    "duration": 10,
    "start_time": "2024-06-28T22:45:45.310Z"
   },
   {
    "duration": 11,
    "start_time": "2024-06-28T22:45:57.505Z"
   },
   {
    "duration": 241,
    "start_time": "2024-06-28T22:47:15.228Z"
   },
   {
    "duration": 199,
    "start_time": "2024-06-28T22:56:47.407Z"
   },
   {
    "duration": 10,
    "start_time": "2024-06-28T22:56:56.580Z"
   },
   {
    "duration": 243,
    "start_time": "2024-06-28T22:57:19.548Z"
   },
   {
    "duration": 10,
    "start_time": "2024-06-28T22:59:33.486Z"
   },
   {
    "duration": 310,
    "start_time": "2024-06-28T22:59:58.939Z"
   },
   {
    "duration": 13,
    "start_time": "2024-06-28T23:04:29.368Z"
   },
   {
    "duration": 238,
    "start_time": "2024-06-28T23:04:53.628Z"
   },
   {
    "duration": 10,
    "start_time": "2024-06-28T23:11:17.353Z"
   },
   {
    "duration": 219,
    "start_time": "2024-06-28T23:11:44.492Z"
   },
   {
    "duration": 11,
    "start_time": "2024-06-28T23:19:50.006Z"
   },
   {
    "duration": 258,
    "start_time": "2024-06-28T23:20:15.448Z"
   },
   {
    "duration": 9,
    "start_time": "2024-06-28T23:35:39.398Z"
   },
   {
    "duration": 10,
    "start_time": "2024-06-28T23:36:01.537Z"
   },
   {
    "duration": 159,
    "start_time": "2024-06-28T23:36:56.925Z"
   },
   {
    "duration": 5,
    "start_time": "2024-06-28T23:37:00.757Z"
   },
   {
    "duration": 3,
    "start_time": "2024-06-28T23:37:54.552Z"
   },
   {
    "duration": 9,
    "start_time": "2024-06-28T23:41:09.005Z"
   },
   {
    "duration": 192,
    "start_time": "2024-06-28T23:41:19.881Z"
   },
   {
    "duration": 6,
    "start_time": "2024-06-28T23:41:27.314Z"
   },
   {
    "duration": 9,
    "start_time": "2024-06-28T23:44:32.374Z"
   },
   {
    "duration": 7,
    "start_time": "2024-06-29T00:03:06.515Z"
   },
   {
    "duration": 9,
    "start_time": "2024-06-29T00:03:45.421Z"
   },
   {
    "duration": 391,
    "start_time": "2024-06-29T00:03:46.698Z"
   },
   {
    "duration": 9,
    "start_time": "2024-06-29T00:07:55.642Z"
   },
   {
    "duration": 8,
    "start_time": "2024-06-29T00:09:38.537Z"
   },
   {
    "duration": 236,
    "start_time": "2024-06-29T00:09:40.831Z"
   },
   {
    "duration": 9,
    "start_time": "2024-06-29T00:18:45.182Z"
   },
   {
    "duration": 9,
    "start_time": "2024-06-29T00:33:40.326Z"
   },
   {
    "duration": 399,
    "start_time": "2024-06-29T00:34:23.665Z"
   },
   {
    "duration": 10,
    "start_time": "2024-06-29T00:36:05.321Z"
   },
   {
    "duration": 10,
    "start_time": "2024-06-29T00:36:46.155Z"
   },
   {
    "duration": 334,
    "start_time": "2024-06-29T00:37:13.239Z"
   },
   {
    "duration": 8,
    "start_time": "2024-06-29T00:46:18.066Z"
   },
   {
    "duration": 244,
    "start_time": "2024-06-29T00:55:16.951Z"
   },
   {
    "duration": 10,
    "start_time": "2024-06-29T00:55:22.705Z"
   },
   {
    "duration": 512,
    "start_time": "2024-06-29T00:55:25.168Z"
   },
   {
    "duration": 26,
    "start_time": "2024-06-29T01:02:53.244Z"
   },
   {
    "duration": 10,
    "start_time": "2024-06-29T01:02:58.548Z"
   },
   {
    "duration": 352,
    "start_time": "2024-06-29T01:02:59.773Z"
   },
   {
    "duration": 6,
    "start_time": "2024-06-29T01:06:16.579Z"
   },
   {
    "duration": 9,
    "start_time": "2024-06-29T01:06:27.102Z"
   },
   {
    "duration": 8,
    "start_time": "2024-06-29T01:06:42.453Z"
   },
   {
    "duration": 8,
    "start_time": "2024-06-29T01:09:49.809Z"
   },
   {
    "duration": 5106,
    "start_time": "2024-06-30T17:41:06.001Z"
   },
   {
    "duration": 86,
    "start_time": "2024-06-30T17:41:12.763Z"
   },
   {
    "duration": 15,
    "start_time": "2024-06-30T17:41:16.477Z"
   },
   {
    "duration": 11,
    "start_time": "2024-06-30T17:41:21.364Z"
   },
   {
    "duration": 9,
    "start_time": "2024-06-30T17:41:24.312Z"
   },
   {
    "duration": 25,
    "start_time": "2024-06-30T17:41:27.091Z"
   },
   {
    "duration": 21,
    "start_time": "2024-06-30T17:41:30.077Z"
   },
   {
    "duration": 6,
    "start_time": "2024-06-30T17:41:33.184Z"
   },
   {
    "duration": 7,
    "start_time": "2024-06-30T17:41:34.934Z"
   },
   {
    "duration": 11,
    "start_time": "2024-06-30T17:41:36.019Z"
   },
   {
    "duration": 18,
    "start_time": "2024-06-30T17:41:40.635Z"
   },
   {
    "duration": 15,
    "start_time": "2024-06-30T17:41:47.368Z"
   },
   {
    "duration": 10,
    "start_time": "2024-06-30T17:41:51.425Z"
   },
   {
    "duration": 12,
    "start_time": "2024-06-30T17:41:54.285Z"
   },
   {
    "duration": 10,
    "start_time": "2024-06-30T17:42:00.234Z"
   },
   {
    "duration": 8,
    "start_time": "2024-06-30T17:42:01.848Z"
   },
   {
    "duration": 18,
    "start_time": "2024-06-30T17:42:07.634Z"
   },
   {
    "duration": 14,
    "start_time": "2024-06-30T17:44:48.342Z"
   },
   {
    "duration": 424,
    "start_time": "2024-06-30T17:44:51.074Z"
   },
   {
    "duration": 9,
    "start_time": "2024-06-30T17:44:55.923Z"
   },
   {
    "duration": 7,
    "start_time": "2024-06-30T17:44:58.397Z"
   },
   {
    "duration": 429,
    "start_time": "2024-06-30T17:44:59.829Z"
   },
   {
    "duration": 206,
    "start_time": "2024-06-30T17:45:06.470Z"
   },
   {
    "duration": 6,
    "start_time": "2024-06-30T17:45:10.113Z"
   },
   {
    "duration": 9,
    "start_time": "2024-06-30T17:45:44.360Z"
   },
   {
    "duration": 12,
    "start_time": "2024-06-30T17:45:48.103Z"
   },
   {
    "duration": 11,
    "start_time": "2024-06-30T17:45:53.609Z"
   },
   {
    "duration": 260,
    "start_time": "2024-06-30T17:45:56.946Z"
   },
   {
    "duration": 10,
    "start_time": "2024-06-30T17:46:01.437Z"
   },
   {
    "duration": 250,
    "start_time": "2024-06-30T17:46:03.837Z"
   },
   {
    "duration": 10,
    "start_time": "2024-06-30T17:47:12.106Z"
   },
   {
    "duration": 276,
    "start_time": "2024-06-30T17:47:13.443Z"
   },
   {
    "duration": 11,
    "start_time": "2024-06-30T17:48:31.962Z"
   },
   {
    "duration": 248,
    "start_time": "2024-06-30T17:48:33.562Z"
   },
   {
    "duration": 11,
    "start_time": "2024-06-30T17:48:38.966Z"
   },
   {
    "duration": 247,
    "start_time": "2024-06-30T17:48:40.662Z"
   },
   {
    "duration": 10,
    "start_time": "2024-06-30T17:48:44.849Z"
   },
   {
    "duration": 250,
    "start_time": "2024-06-30T17:48:48.274Z"
   },
   {
    "duration": 11,
    "start_time": "2024-06-30T17:48:57.952Z"
   },
   {
    "duration": 13,
    "start_time": "2024-06-30T17:49:02.442Z"
   },
   {
    "duration": 9,
    "start_time": "2024-06-30T17:49:09.752Z"
   },
   {
    "duration": 8,
    "start_time": "2024-06-30T17:49:28.024Z"
   },
   {
    "duration": 198,
    "start_time": "2024-06-30T17:49:33.565Z"
   },
   {
    "duration": 7,
    "start_time": "2024-06-30T17:49:36.988Z"
   },
   {
    "duration": 13,
    "start_time": "2024-06-30T17:49:43.501Z"
   },
   {
    "duration": 395,
    "start_time": "2024-06-30T17:49:48.366Z"
   },
   {
    "duration": 9,
    "start_time": "2024-06-30T17:49:53.375Z"
   },
   {
    "duration": 238,
    "start_time": "2024-06-30T17:49:55.332Z"
   },
   {
    "duration": 9,
    "start_time": "2024-06-30T17:50:09.593Z"
   },
   {
    "duration": 9,
    "start_time": "2024-06-30T17:50:17.762Z"
   },
   {
    "duration": 449,
    "start_time": "2024-06-30T17:50:19.174Z"
   },
   {
    "duration": 9,
    "start_time": "2024-06-30T17:50:43.818Z"
   },
   {
    "duration": 247,
    "start_time": "2024-06-30T17:50:45.874Z"
   },
   {
    "duration": 9,
    "start_time": "2024-06-30T17:50:53.302Z"
   },
   {
    "duration": 8,
    "start_time": "2024-06-30T17:51:02.898Z"
   },
   {
    "duration": 398,
    "start_time": "2024-06-30T17:51:06.055Z"
   },
   {
    "duration": 11,
    "start_time": "2024-06-30T17:51:15.007Z"
   },
   {
    "duration": 288,
    "start_time": "2024-06-30T17:51:17.688Z"
   },
   {
    "duration": 8,
    "start_time": "2024-06-30T17:51:23.750Z"
   },
   {
    "duration": 8,
    "start_time": "2024-06-30T17:55:28.430Z"
   },
   {
    "duration": 387,
    "start_time": "2024-06-30T17:58:20.174Z"
   },
   {
    "duration": 9,
    "start_time": "2024-06-30T18:00:46.247Z"
   },
   {
    "duration": 276,
    "start_time": "2024-06-30T18:01:18.526Z"
   },
   {
    "duration": 9,
    "start_time": "2024-06-30T18:03:05.017Z"
   },
   {
    "duration": 9,
    "start_time": "2024-06-30T18:05:51.958Z"
   },
   {
    "duration": 249,
    "start_time": "2024-06-30T18:05:53.784Z"
   },
   {
    "duration": 7,
    "start_time": "2024-06-30T19:07:01.440Z"
   },
   {
    "duration": 1399,
    "start_time": "2024-06-30T19:17:10.824Z"
   },
   {
    "duration": 66,
    "start_time": "2024-06-30T19:17:15.032Z"
   },
   {
    "duration": 16,
    "start_time": "2024-06-30T19:17:19.862Z"
   },
   {
    "duration": 7,
    "start_time": "2024-06-30T19:17:28.588Z"
   },
   {
    "duration": 7,
    "start_time": "2024-06-30T19:17:46.081Z"
   },
   {
    "duration": 22,
    "start_time": "2024-06-30T19:17:49.190Z"
   },
   {
    "duration": 16,
    "start_time": "2024-06-30T19:18:16.468Z"
   },
   {
    "duration": 5,
    "start_time": "2024-06-30T19:18:24.610Z"
   },
   {
    "duration": 6,
    "start_time": "2024-06-30T19:20:51.037Z"
   },
   {
    "duration": 9,
    "start_time": "2024-06-30T19:25:24.272Z"
   },
   {
    "duration": 16,
    "start_time": "2024-06-30T19:26:29.627Z"
   },
   {
    "duration": 13,
    "start_time": "2024-06-30T19:29:04.875Z"
   },
   {
    "duration": 6,
    "start_time": "2024-06-30T19:29:26.910Z"
   },
   {
    "duration": 13,
    "start_time": "2024-06-30T19:29:34.346Z"
   },
   {
    "duration": 7,
    "start_time": "2024-06-30T19:48:11.048Z"
   },
   {
    "duration": 7,
    "start_time": "2024-06-30T19:48:12.942Z"
   },
   {
    "duration": 19,
    "start_time": "2024-06-30T19:48:22.689Z"
   },
   {
    "duration": 14,
    "start_time": "2024-06-30T19:48:26.609Z"
   },
   {
    "duration": 421,
    "start_time": "2024-06-30T19:48:39.084Z"
   },
   {
    "duration": 7,
    "start_time": "2024-06-30T19:48:45.102Z"
   },
   {
    "duration": 8,
    "start_time": "2024-06-30T19:49:13.365Z"
   },
   {
    "duration": 490,
    "start_time": "2024-06-30T19:49:18.188Z"
   },
   {
    "duration": 9,
    "start_time": "2024-06-30T19:49:38.041Z"
   },
   {
    "duration": 260,
    "start_time": "2024-06-30T19:49:45.875Z"
   },
   {
    "duration": 145,
    "start_time": "2024-06-30T19:49:58.591Z"
   },
   {
    "duration": 5,
    "start_time": "2024-06-30T19:50:01.374Z"
   },
   {
    "duration": 10,
    "start_time": "2024-06-30T19:50:49.300Z"
   },
   {
    "duration": 11,
    "start_time": "2024-06-30T19:53:14.228Z"
   },
   {
    "duration": 11,
    "start_time": "2024-06-30T19:54:10.600Z"
   },
   {
    "duration": 261,
    "start_time": "2024-06-30T19:54:12.108Z"
   },
   {
    "duration": 10,
    "start_time": "2024-06-30T19:54:25.702Z"
   },
   {
    "duration": 233,
    "start_time": "2024-06-30T19:54:29.274Z"
   },
   {
    "duration": 18,
    "start_time": "2024-06-30T19:54:35.677Z"
   },
   {
    "duration": 230,
    "start_time": "2024-06-30T19:54:37.160Z"
   },
   {
    "duration": 12,
    "start_time": "2024-06-30T19:54:48.597Z"
   },
   {
    "duration": 227,
    "start_time": "2024-06-30T19:54:55.705Z"
   },
   {
    "duration": 11,
    "start_time": "2024-06-30T19:55:02.333Z"
   },
   {
    "duration": 236,
    "start_time": "2024-06-30T19:55:03.892Z"
   },
   {
    "duration": 9,
    "start_time": "2024-06-30T19:55:15.750Z"
   },
   {
    "duration": 259,
    "start_time": "2024-06-30T19:55:17.201Z"
   },
   {
    "duration": 9,
    "start_time": "2024-06-30T19:55:24.294Z"
   },
   {
    "duration": 10,
    "start_time": "2024-06-30T19:55:54.836Z"
   },
   {
    "duration": 7,
    "start_time": "2024-06-30T19:56:24.217Z"
   },
   {
    "duration": 208,
    "start_time": "2024-06-30T19:56:30.848Z"
   },
   {
    "duration": 9,
    "start_time": "2024-06-30T19:57:01.776Z"
   },
   {
    "duration": 7,
    "start_time": "2024-06-30T19:57:11.974Z"
   },
   {
    "duration": 189,
    "start_time": "2024-06-30T19:57:23.248Z"
   },
   {
    "duration": 6,
    "start_time": "2024-06-30T19:58:16.109Z"
   },
   {
    "duration": 198,
    "start_time": "2024-06-30T19:58:21.782Z"
   },
   {
    "duration": 6,
    "start_time": "2024-06-30T19:58:25.705Z"
   },
   {
    "duration": 9,
    "start_time": "2024-06-30T20:00:41.556Z"
   },
   {
    "duration": 377,
    "start_time": "2024-06-30T20:00:43.133Z"
   },
   {
    "duration": 10,
    "start_time": "2024-06-30T20:01:10.684Z"
   },
   {
    "duration": 9,
    "start_time": "2024-06-30T20:01:26.080Z"
   },
   {
    "duration": 487,
    "start_time": "2024-06-30T20:01:29.887Z"
   },
   {
    "duration": 9,
    "start_time": "2024-06-30T20:02:10.713Z"
   },
   {
    "duration": 234,
    "start_time": "2024-06-30T20:02:20.290Z"
   },
   {
    "duration": 233,
    "start_time": "2024-06-30T20:05:19.419Z"
   },
   {
    "duration": 10,
    "start_time": "2024-06-30T20:05:33.055Z"
   },
   {
    "duration": 9,
    "start_time": "2024-06-30T20:06:40.230Z"
   },
   {
    "duration": 398,
    "start_time": "2024-06-30T20:06:42.573Z"
   },
   {
    "duration": 9,
    "start_time": "2024-06-30T20:07:37.382Z"
   },
   {
    "duration": 260,
    "start_time": "2024-06-30T20:07:49.731Z"
   },
   {
    "duration": 9,
    "start_time": "2024-06-30T20:09:17.252Z"
   },
   {
    "duration": 8,
    "start_time": "2024-06-30T20:09:26.802Z"
   },
   {
    "duration": 391,
    "start_time": "2024-06-30T20:09:30.965Z"
   },
   {
    "duration": 9,
    "start_time": "2024-06-30T20:25:56.001Z"
   },
   {
    "duration": 251,
    "start_time": "2024-06-30T20:25:57.917Z"
   },
   {
    "duration": 9,
    "start_time": "2024-06-30T20:54:11.822Z"
   },
   {
    "duration": 8,
    "start_time": "2024-06-30T20:54:19.718Z"
   },
   {
    "duration": 372,
    "start_time": "2024-06-30T20:54:30.670Z"
   },
   {
    "duration": 9,
    "start_time": "2024-06-30T20:55:49.256Z"
   },
   {
    "duration": 357,
    "start_time": "2024-06-30T20:56:24.828Z"
   },
   {
    "duration": 8,
    "start_time": "2024-06-30T21:03:17.141Z"
   },
   {
    "duration": 14,
    "start_time": "2024-06-30T21:09:52.535Z"
   },
   {
    "duration": 14,
    "start_time": "2024-06-30T21:11:04.184Z"
   },
   {
    "duration": 13,
    "start_time": "2024-06-30T21:11:41.324Z"
   },
   {
    "duration": 9,
    "start_time": "2024-06-30T21:12:00.074Z"
   },
   {
    "duration": 12,
    "start_time": "2024-06-30T21:14:29.851Z"
   },
   {
    "duration": 6,
    "start_time": "2024-06-30T21:14:31.083Z"
   },
   {
    "duration": 6,
    "start_time": "2024-06-30T21:14:46.856Z"
   },
   {
    "duration": 16,
    "start_time": "2024-06-30T21:16:54.868Z"
   },
   {
    "duration": 410,
    "start_time": "2024-06-30T21:18:19.938Z"
   },
   {
    "duration": 16,
    "start_time": "2024-06-30T21:18:42.990Z"
   },
   {
    "duration": 5,
    "start_time": "2024-06-30T21:18:54.564Z"
   },
   {
    "duration": 9,
    "start_time": "2024-06-30T21:19:46.686Z"
   },
   {
    "duration": 6,
    "start_time": "2024-06-30T21:19:53.862Z"
   },
   {
    "duration": 15,
    "start_time": "2024-06-30T21:28:25.159Z"
   },
   {
    "duration": 16,
    "start_time": "2024-06-30T21:29:05.571Z"
   },
   {
    "duration": 16,
    "start_time": "2024-06-30T21:29:51.671Z"
   },
   {
    "duration": 16,
    "start_time": "2024-06-30T21:35:56.859Z"
   },
   {
    "duration": 15,
    "start_time": "2024-06-30T21:36:09.180Z"
   },
   {
    "duration": 7,
    "start_time": "2024-06-30T21:36:20.562Z"
   },
   {
    "duration": 11,
    "start_time": "2024-06-30T21:42:49.226Z"
   },
   {
    "duration": 728,
    "start_time": "2024-06-30T21:42:52.511Z"
   },
   {
    "duration": 17,
    "start_time": "2024-06-30T21:43:22.919Z"
   },
   {
    "duration": 6,
    "start_time": "2024-06-30T21:43:29.082Z"
   },
   {
    "duration": 7,
    "start_time": "2024-06-30T22:02:46.084Z"
   },
   {
    "duration": 13,
    "start_time": "2024-06-30T22:02:55.636Z"
   },
   {
    "duration": 14,
    "start_time": "2024-06-30T22:03:35.404Z"
   },
   {
    "duration": 26,
    "start_time": "2024-06-30T22:03:40.002Z"
   },
   {
    "duration": 7,
    "start_time": "2024-06-30T22:03:48.205Z"
   },
   {
    "duration": 16,
    "start_time": "2024-06-30T22:05:36.035Z"
   },
   {
    "duration": 9,
    "start_time": "2024-06-30T22:07:55.817Z"
   },
   {
    "duration": 7,
    "start_time": "2024-06-30T22:08:02.925Z"
   },
   {
    "duration": 6,
    "start_time": "2024-06-30T22:09:04.459Z"
   },
   {
    "duration": 7,
    "start_time": "2024-06-30T22:11:06.021Z"
   },
   {
    "duration": 19,
    "start_time": "2024-06-30T22:12:03.032Z"
   },
   {
    "duration": 16,
    "start_time": "2024-06-30T22:12:13.578Z"
   },
   {
    "duration": 8,
    "start_time": "2024-06-30T22:12:31.660Z"
   },
   {
    "duration": 6,
    "start_time": "2024-06-30T22:24:44.353Z"
   },
   {
    "duration": 7,
    "start_time": "2024-06-30T22:24:55.314Z"
   },
   {
    "duration": 16,
    "start_time": "2024-06-30T22:38:08.644Z"
   },
   {
    "duration": 88,
    "start_time": "2024-06-30T22:38:31.116Z"
   },
   {
    "duration": 14,
    "start_time": "2024-06-30T22:39:32.705Z"
   },
   {
    "duration": 19,
    "start_time": "2024-06-30T22:44:40.753Z"
   },
   {
    "duration": 9,
    "start_time": "2024-06-30T22:46:22.219Z"
   },
   {
    "duration": 9,
    "start_time": "2024-06-30T22:47:31.278Z"
   },
   {
    "duration": 894,
    "start_time": "2024-06-30T22:48:58.112Z"
   },
   {
    "duration": 11,
    "start_time": "2024-06-30T22:49:15.224Z"
   },
   {
    "duration": 7,
    "start_time": "2024-06-30T22:49:35.692Z"
   },
   {
    "duration": 12,
    "start_time": "2024-06-30T22:52:12.008Z"
   },
   {
    "duration": 7,
    "start_time": "2024-06-30T22:52:27.280Z"
   },
   {
    "duration": 7,
    "start_time": "2024-06-30T22:56:43.948Z"
   },
   {
    "duration": 8,
    "start_time": "2024-06-30T23:18:17.303Z"
   },
   {
    "duration": 14,
    "start_time": "2024-06-30T23:18:55.893Z"
   },
   {
    "duration": 10,
    "start_time": "2024-06-30T23:19:37.132Z"
   },
   {
    "duration": 9,
    "start_time": "2024-06-30T23:20:20.018Z"
   },
   {
    "duration": 4926,
    "start_time": "2024-07-01T05:00:48.776Z"
   },
   {
    "duration": 68,
    "start_time": "2024-07-01T05:00:56.105Z"
   },
   {
    "duration": 25,
    "start_time": "2024-07-01T05:01:02.038Z"
   },
   {
    "duration": 8,
    "start_time": "2024-07-01T05:01:07.715Z"
   },
   {
    "duration": 7,
    "start_time": "2024-07-01T05:01:09.604Z"
   },
   {
    "duration": 19,
    "start_time": "2024-07-01T05:01:13.814Z"
   },
   {
    "duration": 16,
    "start_time": "2024-07-01T05:01:16.775Z"
   },
   {
    "duration": 5,
    "start_time": "2024-07-01T05:01:20.027Z"
   },
   {
    "duration": 6,
    "start_time": "2024-07-01T05:01:25.296Z"
   },
   {
    "duration": 9,
    "start_time": "2024-07-01T05:01:33.345Z"
   },
   {
    "duration": 16,
    "start_time": "2024-07-01T05:01:35.545Z"
   },
   {
    "duration": 16,
    "start_time": "2024-07-01T05:01:39.651Z"
   },
   {
    "duration": 5,
    "start_time": "2024-07-01T05:01:42.361Z"
   },
   {
    "duration": 12,
    "start_time": "2024-07-01T05:01:44.951Z"
   },
   {
    "duration": 8,
    "start_time": "2024-07-01T05:02:05.266Z"
   },
   {
    "duration": 8,
    "start_time": "2024-07-01T05:02:15.367Z"
   },
   {
    "duration": 19,
    "start_time": "2024-07-01T05:02:20.734Z"
   },
   {
    "duration": 18,
    "start_time": "2024-07-01T05:02:32.010Z"
   },
   {
    "duration": 448,
    "start_time": "2024-07-01T05:03:00.016Z"
   },
   {
    "duration": 409,
    "start_time": "2024-07-01T05:03:29.236Z"
   },
   {
    "duration": 403,
    "start_time": "2024-07-01T05:03:43.372Z"
   },
   {
    "duration": 11,
    "start_time": "2024-07-01T05:04:05.139Z"
   },
   {
    "duration": 9,
    "start_time": "2024-07-01T05:04:50.202Z"
   },
   {
    "duration": 505,
    "start_time": "2024-07-01T05:05:19.556Z"
   },
   {
    "duration": 8,
    "start_time": "2024-07-01T05:06:20.111Z"
   },
   {
    "duration": 253,
    "start_time": "2024-07-01T05:06:51.349Z"
   },
   {
    "duration": 149,
    "start_time": "2024-07-01T05:06:59.155Z"
   },
   {
    "duration": 5,
    "start_time": "2024-07-01T05:07:08.339Z"
   },
   {
    "duration": 10,
    "start_time": "2024-07-01T05:08:04.786Z"
   },
   {
    "duration": 44707,
    "start_time": "2024-07-01T05:10:28.530Z"
   },
   {
    "duration": 11,
    "start_time": "2024-07-01T05:11:37.291Z"
   },
   {
    "duration": 13,
    "start_time": "2024-07-01T05:13:43.263Z"
   },
   {
    "duration": 235,
    "start_time": "2024-07-01T05:13:57.303Z"
   },
   {
    "duration": 11,
    "start_time": "2024-07-01T05:14:43.466Z"
   },
   {
    "duration": 240,
    "start_time": "2024-07-01T05:14:44.774Z"
   },
   {
    "duration": 10,
    "start_time": "2024-07-01T05:14:50.012Z"
   },
   {
    "duration": 268,
    "start_time": "2024-07-01T05:14:52.607Z"
   },
   {
    "duration": 12,
    "start_time": "2024-07-01T05:20:09.885Z"
   },
   {
    "duration": 240,
    "start_time": "2024-07-01T05:20:14.190Z"
   },
   {
    "duration": 9,
    "start_time": "2024-07-01T05:20:18.812Z"
   },
   {
    "duration": 240,
    "start_time": "2024-07-01T05:20:22.290Z"
   },
   {
    "duration": 10,
    "start_time": "2024-07-01T05:20:27.686Z"
   },
   {
    "duration": 264,
    "start_time": "2024-07-01T05:20:30.126Z"
   },
   {
    "duration": 10,
    "start_time": "2024-07-01T05:20:52.484Z"
   },
   {
    "duration": 234,
    "start_time": "2024-07-01T05:21:09.332Z"
   },
   {
    "duration": 9,
    "start_time": "2024-07-01T05:21:30.537Z"
   },
   {
    "duration": 206,
    "start_time": "2024-07-01T05:21:54.240Z"
   },
   {
    "duration": 9,
    "start_time": "2024-07-01T05:22:07.691Z"
   },
   {
    "duration": 197,
    "start_time": "2024-07-01T05:22:09.833Z"
   },
   {
    "duration": 7,
    "start_time": "2024-07-01T05:22:13.258Z"
   },
   {
    "duration": 9,
    "start_time": "2024-07-01T05:22:39.034Z"
   },
   {
    "duration": 392,
    "start_time": "2024-07-01T05:22:42.734Z"
   },
   {
    "duration": 8,
    "start_time": "2024-07-01T05:22:48.361Z"
   },
   {
    "duration": 239,
    "start_time": "2024-07-01T05:22:50.357Z"
   },
   {
    "duration": 8,
    "start_time": "2024-07-01T05:22:54.458Z"
   },
   {
    "duration": 11,
    "start_time": "2024-07-01T05:23:09.292Z"
   },
   {
    "duration": 11,
    "start_time": "2024-07-01T05:23:24.768Z"
   },
   {
    "duration": 399,
    "start_time": "2024-07-01T05:23:32.468Z"
   },
   {
    "duration": 10,
    "start_time": "2024-07-01T05:23:37.473Z"
   },
   {
    "duration": 258,
    "start_time": "2024-07-01T05:23:41.332Z"
   },
   {
    "duration": 9,
    "start_time": "2024-07-01T05:23:46.682Z"
   },
   {
    "duration": 9,
    "start_time": "2024-07-01T05:23:54.895Z"
   },
   {
    "duration": 369,
    "start_time": "2024-07-01T05:23:57.208Z"
   },
   {
    "duration": 9,
    "start_time": "2024-07-01T05:24:01.851Z"
   },
   {
    "duration": 280,
    "start_time": "2024-07-01T05:24:03.308Z"
   },
   {
    "duration": 9,
    "start_time": "2024-07-01T05:24:07.626Z"
   },
   {
    "duration": 8,
    "start_time": "2024-07-01T05:24:14.779Z"
   },
   {
    "duration": 375,
    "start_time": "2024-07-01T05:24:17.012Z"
   },
   {
    "duration": 9,
    "start_time": "2024-07-01T05:24:22.703Z"
   },
   {
    "duration": 327,
    "start_time": "2024-07-01T05:24:24.264Z"
   },
   {
    "duration": 9,
    "start_time": "2024-07-01T05:24:30.142Z"
   },
   {
    "duration": 11,
    "start_time": "2024-07-01T05:24:34.148Z"
   },
   {
    "duration": 7,
    "start_time": "2024-07-01T05:24:35.231Z"
   },
   {
    "duration": 11,
    "start_time": "2024-07-01T05:24:38.282Z"
   },
   {
    "duration": 7,
    "start_time": "2024-07-01T05:24:39.861Z"
   },
   {
    "duration": 407,
    "start_time": "2024-07-01T05:46:25.927Z"
   },
   {
    "duration": 11,
    "start_time": "2024-07-01T05:46:52.741Z"
   },
   {
    "duration": 235,
    "start_time": "2024-07-01T05:46:57.963Z"
   },
   {
    "duration": 239,
    "start_time": "2024-07-01T05:47:10.554Z"
   },
   {
    "duration": 9,
    "start_time": "2024-07-01T05:47:38.431Z"
   },
   {
    "duration": 4929,
    "start_time": "2024-07-02T01:26:15.552Z"
   },
   {
    "duration": 75,
    "start_time": "2024-07-02T01:27:42.643Z"
   },
   {
    "duration": 16,
    "start_time": "2024-07-02T01:27:48.757Z"
   },
   {
    "duration": 4,
    "start_time": "2024-07-02T01:37:59.713Z"
   },
   {
    "duration": 8,
    "start_time": "2024-07-02T01:38:04.444Z"
   },
   {
    "duration": 23,
    "start_time": "2024-07-02T01:38:14.901Z"
   },
   {
    "duration": 18,
    "start_time": "2024-07-02T01:39:55.571Z"
   },
   {
    "duration": 5,
    "start_time": "2024-07-02T01:39:59.979Z"
   },
   {
    "duration": 6,
    "start_time": "2024-07-02T01:40:09.079Z"
   },
   {
    "duration": 9,
    "start_time": "2024-07-02T01:40:13.181Z"
   },
   {
    "duration": 16,
    "start_time": "2024-07-02T01:40:17.248Z"
   },
   {
    "duration": 15,
    "start_time": "2024-07-02T01:42:26.159Z"
   },
   {
    "duration": 13,
    "start_time": "2024-07-02T01:42:40.401Z"
   },
   {
    "duration": 14,
    "start_time": "2024-07-02T01:43:23.865Z"
   },
   {
    "duration": 7,
    "start_time": "2024-07-02T01:43:29.508Z"
   },
   {
    "duration": 13,
    "start_time": "2024-07-02T01:43:37.558Z"
   },
   {
    "duration": 7,
    "start_time": "2024-07-02T01:50:53.070Z"
   },
   {
    "duration": 8,
    "start_time": "2024-07-02T01:50:54.565Z"
   },
   {
    "duration": 29,
    "start_time": "2024-07-02T01:50:57.015Z"
   },
   {
    "duration": 17,
    "start_time": "2024-07-02T01:51:02.684Z"
   },
   {
    "duration": 433,
    "start_time": "2024-07-02T01:51:04.783Z"
   },
   {
    "duration": 8,
    "start_time": "2024-07-02T01:51:09.689Z"
   },
   {
    "duration": 8,
    "start_time": "2024-07-02T01:51:15.182Z"
   },
   {
    "duration": 426,
    "start_time": "2024-07-02T01:51:17.212Z"
   },
   {
    "duration": 9,
    "start_time": "2024-07-02T01:51:34.113Z"
   },
   {
    "duration": 258,
    "start_time": "2024-07-02T01:51:39.482Z"
   },
   {
    "duration": 172,
    "start_time": "2024-07-02T01:53:06.260Z"
   },
   {
    "duration": 295,
    "start_time": "2024-07-02T01:55:43.895Z"
   },
   {
    "duration": 11,
    "start_time": "2024-07-02T01:57:27.432Z"
   },
   {
    "duration": 11,
    "start_time": "2024-07-02T01:57:39.901Z"
   },
   {
    "duration": 401,
    "start_time": "2024-07-02T01:57:53.468Z"
   },
   {
    "duration": 7,
    "start_time": "2024-07-02T01:58:00.507Z"
   },
   {
    "duration": 54,
    "start_time": "2024-07-02T02:01:55.153Z"
   },
   {
    "duration": 224,
    "start_time": "2024-07-02T02:07:20.934Z"
   },
   {
    "duration": 373,
    "start_time": "2024-07-02T02:07:31.465Z"
   },
   {
    "duration": 777,
    "start_time": "2024-07-02T02:07:49.760Z"
   },
   {
    "duration": 4,
    "start_time": "2024-07-02T02:09:59.741Z"
   },
   {
    "duration": 43,
    "start_time": "2024-07-02T02:10:16.613Z"
   },
   {
    "duration": 6,
    "start_time": "2024-07-02T02:22:30.837Z"
   },
   {
    "duration": 167,
    "start_time": "2024-07-02T02:22:32.133Z"
   },
   {
    "duration": 152,
    "start_time": "2024-07-02T02:23:34.904Z"
   },
   {
    "duration": 5051,
    "start_time": "2024-07-02T04:50:42.958Z"
   },
   {
    "duration": 84,
    "start_time": "2024-07-02T04:50:50.289Z"
   },
   {
    "duration": 17,
    "start_time": "2024-07-02T04:50:54.655Z"
   },
   {
    "duration": 5,
    "start_time": "2024-07-02T04:50:58.815Z"
   },
   {
    "duration": 8,
    "start_time": "2024-07-02T04:51:01.321Z"
   },
   {
    "duration": 20,
    "start_time": "2024-07-02T04:51:04.021Z"
   },
   {
    "duration": 23,
    "start_time": "2024-07-02T04:51:08.444Z"
   },
   {
    "duration": 6,
    "start_time": "2024-07-02T04:51:10.919Z"
   },
   {
    "duration": 7,
    "start_time": "2024-07-02T04:51:15.105Z"
   },
   {
    "duration": 11,
    "start_time": "2024-07-02T04:51:17.192Z"
   },
   {
    "duration": 21,
    "start_time": "2024-07-02T04:51:18.488Z"
   },
   {
    "duration": 17,
    "start_time": "2024-07-02T04:51:23.197Z"
   },
   {
    "duration": 12,
    "start_time": "2024-07-02T04:51:27.541Z"
   },
   {
    "duration": 14,
    "start_time": "2024-07-02T04:51:28.853Z"
   },
   {
    "duration": 9,
    "start_time": "2024-07-02T04:51:34.815Z"
   },
   {
    "duration": 9,
    "start_time": "2024-07-02T04:51:37.190Z"
   },
   {
    "duration": 18,
    "start_time": "2024-07-02T04:51:39.172Z"
   },
   {
    "duration": 14,
    "start_time": "2024-07-02T04:51:45.840Z"
   },
   {
    "duration": 472,
    "start_time": "2024-07-02T04:51:49.402Z"
   },
   {
    "duration": 11,
    "start_time": "2024-07-02T04:51:51.874Z"
   },
   {
    "duration": 9,
    "start_time": "2024-07-02T04:51:54.805Z"
   },
   {
    "duration": 456,
    "start_time": "2024-07-02T04:51:57.717Z"
   },
   {
    "duration": 9,
    "start_time": "2024-07-02T04:52:17.801Z"
   },
   {
    "duration": 265,
    "start_time": "2024-07-02T04:52:19.265Z"
   },
   {
    "duration": 174,
    "start_time": "2024-07-02T04:52:24.945Z"
   },
   {
    "duration": 7,
    "start_time": "2024-07-02T04:52:28.933Z"
   },
   {
    "duration": 173,
    "start_time": "2024-07-02T04:52:36.620Z"
   },
   {
    "duration": 610,
    "start_time": "2024-07-02T04:53:15.808Z"
   },
   {
    "duration": 8,
    "start_time": "2024-07-02T04:53:26.265Z"
   },
   {
    "duration": 8,
    "start_time": "2024-07-02T05:05:14.560Z"
   },
   {
    "duration": 9,
    "start_time": "2024-07-02T05:05:15.611Z"
   },
   {
    "duration": 16,
    "start_time": "2024-07-02T05:05:23.915Z"
   },
   {
    "duration": 15,
    "start_time": "2024-07-02T05:05:30.774Z"
   },
   {
    "duration": 7,
    "start_time": "2024-07-02T05:05:39.948Z"
   },
   {
    "duration": 9,
    "start_time": "2024-07-02T05:05:46.798Z"
   },
   {
    "duration": 445,
    "start_time": "2024-07-02T05:05:49.397Z"
   },
   {
    "duration": 11,
    "start_time": "2024-07-02T05:05:59.294Z"
   },
   {
    "duration": 273,
    "start_time": "2024-07-02T05:06:03.623Z"
   },
   {
    "duration": 163,
    "start_time": "2024-07-02T05:06:10.367Z"
   },
   {
    "duration": 163,
    "start_time": "2024-07-02T05:06:16.452Z"
   },
   {
    "duration": 7,
    "start_time": "2024-07-02T05:06:19.123Z"
   },
   {
    "duration": 11,
    "start_time": "2024-07-02T05:06:33.581Z"
   },
   {
    "duration": 13,
    "start_time": "2024-07-02T05:06:36.059Z"
   },
   {
    "duration": 12,
    "start_time": "2024-07-02T05:08:08.942Z"
   },
   {
    "duration": 12,
    "start_time": "2024-07-02T05:10:17.407Z"
   },
   {
    "duration": 250,
    "start_time": "2024-07-02T05:10:18.959Z"
   },
   {
    "duration": 11,
    "start_time": "2024-07-02T05:10:23.769Z"
   },
   {
    "duration": 274,
    "start_time": "2024-07-02T05:10:26.299Z"
   },
   {
    "duration": 11,
    "start_time": "2024-07-02T05:10:29.595Z"
   },
   {
    "duration": 252,
    "start_time": "2024-07-02T05:10:30.882Z"
   },
   {
    "duration": 12,
    "start_time": "2024-07-02T05:12:55.318Z"
   },
   {
    "duration": 338,
    "start_time": "2024-07-02T05:12:56.503Z"
   },
   {
    "duration": 10,
    "start_time": "2024-07-02T05:13:00.044Z"
   },
   {
    "duration": 256,
    "start_time": "2024-07-02T05:13:01.558Z"
   },
   {
    "duration": 18,
    "start_time": "2024-07-02T05:13:07.154Z"
   },
   {
    "duration": 311,
    "start_time": "2024-07-02T05:13:09.052Z"
   },
   {
    "duration": 11,
    "start_time": "2024-07-02T05:15:20.020Z"
   },
   {
    "duration": 251,
    "start_time": "2024-07-02T05:15:22.115Z"
   },
   {
    "duration": 250,
    "start_time": "2024-07-02T05:15:42.534Z"
   },
   {
    "duration": 11,
    "start_time": "2024-07-02T05:17:13.609Z"
   },
   {
    "duration": 220,
    "start_time": "2024-07-02T05:17:15.044Z"
   },
   {
    "duration": 260,
    "start_time": "2024-07-02T05:17:26.933Z"
   },
   {
    "duration": 8,
    "start_time": "2024-07-02T05:21:31.330Z"
   },
   {
    "duration": 221,
    "start_time": "2024-07-02T05:21:37.998Z"
   },
   {
    "duration": 7,
    "start_time": "2024-07-02T05:33:24.443Z"
   },
   {
    "duration": 12,
    "start_time": "2024-07-02T05:36:02.989Z"
   },
   {
    "duration": 490,
    "start_time": "2024-07-02T05:36:04.791Z"
   },
   {
    "duration": 12,
    "start_time": "2024-07-02T05:36:29.542Z"
   },
   {
    "duration": 17,
    "start_time": "2024-07-02T05:37:50.865Z"
   },
   {
    "duration": 490,
    "start_time": "2024-07-02T05:37:52.558Z"
   },
   {
    "duration": 11,
    "start_time": "2024-07-02T05:37:58.513Z"
   },
   {
    "duration": 275,
    "start_time": "2024-07-02T05:38:07.126Z"
   },
   {
    "duration": 11,
    "start_time": "2024-07-02T05:38:18.541Z"
   },
   {
    "duration": 17,
    "start_time": "2024-07-02T05:39:04.448Z"
   },
   {
    "duration": 472,
    "start_time": "2024-07-02T05:39:05.698Z"
   },
   {
    "duration": 12,
    "start_time": "2024-07-02T05:39:09.231Z"
   },
   {
    "duration": 378,
    "start_time": "2024-07-02T05:39:10.563Z"
   },
   {
    "duration": 10,
    "start_time": "2024-07-02T05:39:15.626Z"
   },
   {
    "duration": 18,
    "start_time": "2024-07-02T05:39:35.065Z"
   },
   {
    "duration": 575,
    "start_time": "2024-07-02T05:39:36.306Z"
   },
   {
    "duration": 19,
    "start_time": "2024-07-02T05:39:40.769Z"
   },
   {
    "duration": 317,
    "start_time": "2024-07-02T05:39:43.106Z"
   },
   {
    "duration": 10,
    "start_time": "2024-07-02T05:39:48.757Z"
   },
   {
    "duration": 11,
    "start_time": "2024-07-02T05:40:13.477Z"
   },
   {
    "duration": 522,
    "start_time": "2024-07-02T05:40:14.790Z"
   },
   {
    "duration": 16,
    "start_time": "2024-07-02T05:40:21.043Z"
   },
   {
    "duration": 340,
    "start_time": "2024-07-02T05:40:23.413Z"
   },
   {
    "duration": 20,
    "start_time": "2024-07-02T05:40:27.384Z"
   },
   {
    "duration": 6,
    "start_time": "2024-07-02T05:48:26.754Z"
   },
   {
    "duration": 38,
    "start_time": "2024-07-02T05:51:30.185Z"
   },
   {
    "duration": 16,
    "start_time": "2024-07-02T05:51:54.255Z"
   },
   {
    "duration": 11,
    "start_time": "2024-07-02T05:51:57.492Z"
   },
   {
    "duration": 10,
    "start_time": "2024-07-02T05:54:04.206Z"
   },
   {
    "duration": 17,
    "start_time": "2024-07-02T05:55:34.967Z"
   },
   {
    "duration": 11,
    "start_time": "2024-07-02T05:56:51.011Z"
   },
   {
    "duration": 18,
    "start_time": "2024-07-02T05:57:11.015Z"
   },
   {
    "duration": 12,
    "start_time": "2024-07-02T05:58:52.197Z"
   },
   {
    "duration": 9,
    "start_time": "2024-07-02T06:02:20.920Z"
   },
   {
    "duration": 10,
    "start_time": "2024-07-02T06:02:35.615Z"
   }
  ],
  "kernelspec": {
   "display_name": "Python 3 (ipykernel)",
   "language": "python",
   "name": "python3"
  },
  "language_info": {
   "codemirror_mode": {
    "name": "ipython",
    "version": 3
   },
   "file_extension": ".py",
   "mimetype": "text/x-python",
   "name": "python",
   "nbconvert_exporter": "python",
   "pygments_lexer": "ipython3",
   "version": "3.9.19"
  },
  "toc": {
   "base_numbering": 1,
   "nav_menu": {},
   "number_sections": true,
   "sideBar": true,
   "skip_h1_title": true,
   "title_cell": "Table of Contents",
   "title_sidebar": "Contents",
   "toc_cell": false,
   "toc_position": {},
   "toc_section_display": true,
   "toc_window_display": false
  }
 },
 "nbformat": 4,
 "nbformat_minor": 2
}
